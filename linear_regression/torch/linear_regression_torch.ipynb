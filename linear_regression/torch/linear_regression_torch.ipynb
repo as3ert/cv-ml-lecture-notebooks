{
 "cells": [
  {
   "cell_type": "markdown",
   "metadata": {
    "id": "epxcwtWj5yJs"
   },
   "source": [
    "# Linear regression in PyTorch\n",
    "\n",
    "Markus Enzweiler, markus.enzweiler@hs-esslingen.de\n",
    "\n",
    "This is a demo used in a Computer Vision & Machine Learning lecture. Feel free to use and contribute."
   ]
  },
  {
   "cell_type": "markdown",
   "metadata": {
    "id": "IJsjl_l47q28"
   },
   "source": [
    "## Setup\n",
    "\n",
    "Adapt `packagePath` to point to the directory containing this notebeook."
   ]
  },
  {
   "cell_type": "code",
   "execution_count": 46,
   "metadata": {
    "executionInfo": {
     "elapsed": 236,
     "status": "ok",
     "timestamp": 1703326573912,
     "user": {
      "displayName": "Markus Enzweiler",
      "userId": "04524044579212347608"
     },
     "user_tz": -60
    },
    "id": "1iHkPBml98YG"
   },
   "outputs": [],
   "source": [
    "# Notebook id\n",
    "nb_id = \"linear_regression/torch\"\n",
    "\n",
    "# Imports\n",
    "import sys\n",
    "import os"
   ]
  },
  {
   "cell_type": "code",
   "execution_count": 47,
   "metadata": {},
   "outputs": [
    {
     "name": "stdout",
     "output_type": "stream",
     "text": [
      "Package path: ./\n"
     ]
    }
   ],
   "source": [
    "# Package Path (folder of this notebook)\n",
    "\n",
    "#####################\n",
    "# Local environment #\n",
    "#####################\n",
    "\n",
    "package_path = \"./\"\n",
    "\n",
    "\n",
    "#########\n",
    "# Colab #\n",
    "#########\n",
    "\n",
    "\n",
    "def check_for_colab():\n",
    "    try:\n",
    "        import google.colab\n",
    "\n",
    "        return True\n",
    "    except ImportError:\n",
    "        return False\n",
    "\n",
    "\n",
    "# running on Colab?\n",
    "on_colab = check_for_colab()\n",
    "\n",
    "if on_colab:\n",
    "    # assume this notebook is run from Google Drive and the whole\n",
    "    # cv-ml-lecture-notebooks repo has been setup via setupOnColab.ipynb\n",
    "\n",
    "    # Google Drive mount point\n",
    "    gdrive_mnt = \"/content/drive\"\n",
    "\n",
    "    ##########################################################################\n",
    "    # Ensure that this is the same as gdrive_repo_root in setupOnColab.ipynb #\n",
    "    ##########################################################################\n",
    "    # Path on Google Drive to the cv-ml-lecture-notebooks repo\n",
    "    gdrive_repo_root = f\"{gdrive_mnt}/MyDrive/cv-ml-lecture-notebooks\"\n",
    "\n",
    "    # mount drive\n",
    "    from google.colab import drive\n",
    "\n",
    "    drive.mount(gdrive_mnt, force_remount=True)\n",
    "\n",
    "    # set package path\n",
    "    package_path = f\"{gdrive_repo_root}/{nb_id}\"\n",
    "\n",
    "# check whether package path exists\n",
    "if not os.path.isdir(package_path):\n",
    "    raise FileNotFoundError(f\"Package path does not exist: {package_path}\")\n",
    "\n",
    "print(f\"Package path: {package_path}\")"
   ]
  },
  {
   "cell_type": "code",
   "execution_count": 48,
   "metadata": {
    "colab": {
     "base_uri": "https://localhost:8080/"
    },
    "executionInfo": {
     "elapsed": 2602,
     "status": "ok",
     "timestamp": 1703326576880,
     "user": {
      "displayName": "Markus Enzweiler",
      "userId": "04524044579212347608"
     },
     "user_tz": -60
    },
    "id": "DY4880S378_F",
    "outputId": "a8ce2d26-fe24-4aa2-c232-acc31b71d394"
   },
   "outputs": [],
   "source": [
    "# Additional imports\n",
    "\n",
    "# Repository Root\n",
    "repo_root = os.path.abspath(os.path.join(package_path, \"..\", \"..\"))\n",
    "# Add the repository root to the system path\n",
    "if repo_root not in sys.path:\n",
    "    sys.path.append(repo_root)\n",
    "\n",
    "# Package Imports\n",
    "from nbutils import requirements as nb_reqs\n",
    "from nbutils import colab as nb_colab\n",
    "from nbutils import git as nb_git\n",
    "from nbutils import exec as nb_exec\n",
    "from nbutils import data as nb_data"
   ]
  },
  {
   "cell_type": "code",
   "execution_count": 49,
   "metadata": {
    "colab": {
     "base_uri": "https://localhost:8080/"
    },
    "executionInfo": {
     "elapsed": 6888,
     "status": "ok",
     "timestamp": 1703326583765,
     "user": {
      "displayName": "Markus Enzweiler",
      "userId": "04524044579212347608"
     },
     "user_tz": -60
    },
    "id": "iaURjw5n6pLq",
    "outputId": "5c40ee52-1fa3-44df-a94e-b81bec144100"
   },
   "outputs": [
    {
     "name": "stdout",
     "output_type": "stream",
     "text": [
      "['/Users/arthurzhao/anaconda3/envs/cv-ml-torch/bin/python', '-m', 'pip', 'install', '-r', './requirements.txt']\n",
      "Requirement already satisfied: torch in /Users/arthurzhao/anaconda3/envs/cv-ml-torch/lib/python3.10/site-packages (from -r ./requirements.txt (line 1)) (2.6.0)\n",
      "Requirement already satisfied: numpy in /Users/arthurzhao/anaconda3/envs/cv-ml-torch/lib/python3.10/site-packages (from -r ./requirements.txt (line 2)) (2.2.4)\n",
      "Requirement already satisfied: matplotlib in /Users/arthurzhao/anaconda3/envs/cv-ml-torch/lib/python3.10/site-packages (from -r ./requirements.txt (line 3)) (3.10.1)\n",
      "Requirement already satisfied: filelock in /Users/arthurzhao/anaconda3/envs/cv-ml-torch/lib/python3.10/site-packages (from torch->-r ./requirements.txt (line 1)) (3.18.0)\n",
      "Requirement already satisfied: typing-extensions>=4.10.0 in /Users/arthurzhao/anaconda3/envs/cv-ml-torch/lib/python3.10/site-packages (from torch->-r ./requirements.txt (line 1)) (4.12.2)\n",
      "Requirement already satisfied: networkx in /Users/arthurzhao/anaconda3/envs/cv-ml-torch/lib/python3.10/site-packages (from torch->-r ./requirements.txt (line 1)) (3.4.2)\n",
      "Requirement already satisfied: jinja2 in /Users/arthurzhao/anaconda3/envs/cv-ml-torch/lib/python3.10/site-packages (from torch->-r ./requirements.txt (line 1)) (3.1.6)\n",
      "Requirement already satisfied: fsspec in /Users/arthurzhao/anaconda3/envs/cv-ml-torch/lib/python3.10/site-packages (from torch->-r ./requirements.txt (line 1)) (2025.3.2)\n",
      "Requirement already satisfied: sympy==1.13.1 in /Users/arthurzhao/anaconda3/envs/cv-ml-torch/lib/python3.10/site-packages (from torch->-r ./requirements.txt (line 1)) (1.13.1)\n",
      "Requirement already satisfied: mpmath<1.4,>=1.1.0 in /Users/arthurzhao/anaconda3/envs/cv-ml-torch/lib/python3.10/site-packages (from sympy==1.13.1->torch->-r ./requirements.txt (line 1)) (1.3.0)\n",
      "Requirement already satisfied: contourpy>=1.0.1 in /Users/arthurzhao/anaconda3/envs/cv-ml-torch/lib/python3.10/site-packages (from matplotlib->-r ./requirements.txt (line 3)) (1.3.1)\n",
      "Requirement already satisfied: cycler>=0.10 in /Users/arthurzhao/anaconda3/envs/cv-ml-torch/lib/python3.10/site-packages (from matplotlib->-r ./requirements.txt (line 3)) (0.12.1)\n",
      "Requirement already satisfied: fonttools>=4.22.0 in /Users/arthurzhao/anaconda3/envs/cv-ml-torch/lib/python3.10/site-packages (from matplotlib->-r ./requirements.txt (line 3)) (4.57.0)\n",
      "Requirement already satisfied: kiwisolver>=1.3.1 in /Users/arthurzhao/anaconda3/envs/cv-ml-torch/lib/python3.10/site-packages (from matplotlib->-r ./requirements.txt (line 3)) (1.4.8)\n",
      "Requirement already satisfied: packaging>=20.0 in /Users/arthurzhao/anaconda3/envs/cv-ml-torch/lib/python3.10/site-packages (from matplotlib->-r ./requirements.txt (line 3)) (24.2)\n",
      "Requirement already satisfied: pillow>=8 in /Users/arthurzhao/anaconda3/envs/cv-ml-torch/lib/python3.10/site-packages (from matplotlib->-r ./requirements.txt (line 3)) (11.1.0)\n",
      "Requirement already satisfied: pyparsing>=2.3.1 in /Users/arthurzhao/anaconda3/envs/cv-ml-torch/lib/python3.10/site-packages (from matplotlib->-r ./requirements.txt (line 3)) (3.2.3)\n",
      "Requirement already satisfied: python-dateutil>=2.7 in /Users/arthurzhao/anaconda3/envs/cv-ml-torch/lib/python3.10/site-packages (from matplotlib->-r ./requirements.txt (line 3)) (2.9.0.post0)\n",
      "Requirement already satisfied: six>=1.5 in /Users/arthurzhao/anaconda3/envs/cv-ml-torch/lib/python3.10/site-packages (from python-dateutil>=2.7->matplotlib->-r ./requirements.txt (line 3)) (1.16.0)\n",
      "Requirement already satisfied: MarkupSafe>=2.0 in /Users/arthurzhao/anaconda3/envs/cv-ml-torch/lib/python3.10/site-packages (from jinja2->torch->-r ./requirements.txt (line 1)) (3.0.2)\n"
     ]
    }
   ],
   "source": [
    "# Install requirements in the current Jupyter kernel\n",
    "req_file = os.path.join(package_path, \"requirements.txt\")\n",
    "nb_reqs.pip_install_reqs(req_file, on_colab)"
   ]
  },
  {
   "cell_type": "code",
   "execution_count": 50,
   "metadata": {
    "executionInfo": {
     "elapsed": 12,
     "status": "ok",
     "timestamp": 1703326583765,
     "user": {
      "displayName": "Markus Enzweiler",
      "userId": "04524044579212347608"
     },
     "user_tz": -60
    },
    "id": "iRERDI8aAnzr"
   },
   "outputs": [],
   "source": [
    "# Now we should be able to import the additional packages\n",
    "import torch\n",
    "import numpy as np\n",
    "import matplotlib.pyplot as plt\n",
    "\n",
    "# Set the random seed for reproducibility\n",
    "torch.manual_seed(0);"
   ]
  },
  {
   "cell_type": "markdown",
   "metadata": {
    "id": "aUACL9QoFTXg"
   },
   "source": [
    "## Linear regression"
   ]
  },
  {
   "cell_type": "markdown",
   "metadata": {},
   "source": [
    "### Create some data based on adding noise to a known linear function"
   ]
  },
  {
   "cell_type": "code",
   "execution_count": 51,
   "metadata": {},
   "outputs": [
    {
     "data": {
      "image/png": "[encoded data removed]",
      "text/plain": [
       "<Figure size 640x480 with 1 Axes>"
      ]
     },
     "metadata": {},
     "output_type": "display_data"
    }
   ],
   "source": [
    "# Creating a function f(x) with a slope of 2 and bias of 1, e.g. f(x) = 2x + 1\n",
    "# and added Gaussian noise\n",
    "\n",
    "# True parameters\n",
    "w_true = 2\n",
    "b_true = 1\n",
    "params_true = torch.tensor([w_true, b_true])\n",
    "\n",
    "X = torch.arange(-5, 5, 0.1)\n",
    "Y = w_true * X + b_true + 2 * torch.randn(X.shape)\n",
    "\n",
    "# Visualize\n",
    "plt.scatter(X, Y, alpha=0.5)\n",
    "plt.title(\"Scatter plot of f(x) = 2x + 1 + Gaussian noise\")\n",
    "plt.show()"
   ]
  },
  {
   "cell_type": "markdown",
   "metadata": {},
   "source": [
    "### Linear model and loss\n",
    "\n",
    "Our linear regression model is $ y = f(x) = w \\cdot x + b$. We solve for $w$ and $b$ using gradient descent. "
   ]
  },
  {
   "cell_type": "code",
   "execution_count": 52,
   "metadata": {},
   "outputs": [],
   "source": [
    "def lin_model(params, x):\n",
    "    w, b = params\n",
    "    return w * x + b"
   ]
  },
  {
   "cell_type": "markdown",
   "metadata": {},
   "source": [
    "We uses mean squared error loss between the predictions of our model and true values. "
   ]
  },
  {
   "cell_type": "code",
   "execution_count": 53,
   "metadata": {},
   "outputs": [],
   "source": [
    "def loss_fn(y_pred, y):\n",
    "    return torch.mean(torch.square(y - y_pred))"
   ]
  },
  {
   "cell_type": "markdown",
   "metadata": {},
   "source": [
    "### Optimization via gradient descent"
   ]
  },
  {
   "cell_type": "markdown",
   "metadata": {},
   "source": [
    "Initialize parameters $w$ and $b$ randomly."
   ]
  },
  {
   "cell_type": "code",
   "execution_count": 54,
   "metadata": {},
   "outputs": [
    {
     "name": "stdout",
     "output_type": "stream",
     "text": [
      "Initial weight : 0.013232016004621983\n",
      "Initial bias   : 0.0003711430181283504\n"
     ]
    }
   ],
   "source": [
    "params = 1e-2 * torch.randn(2, dtype=torch.float32)\n",
    "\n",
    "# we track gradients for the parameters w and b\n",
    "params.requires_grad_()\n",
    "\n",
    "w, b = params\n",
    "print(f\"Initial weight : {w}\")\n",
    "print(f\"Initial bias   : {b}\")"
   ]
  },
  {
   "cell_type": "markdown",
   "metadata": {},
   "source": [
    "Optimize via gradient descent"
   ]
  },
  {
   "cell_type": "code",
   "execution_count": 55,
   "metadata": {},
   "outputs": [
    {
     "name": "stdout",
     "output_type": "stream",
     "text": [
      "Iteration     0 | Loss   38.02029 | w  0.02313 | b  0.00096 | Error norm 2.21497\n"
     ]
    },
    {
     "name": "stdout",
     "output_type": "stream",
     "text": [
      "Iteration   500 | Loss    5.06356 | w  1.83346 | b  0.27028 | Error norm 0.74849\n",
      "Iteration  1000 | Loss    4.55538 | w  1.98231 | b  0.47792 | Error norm 0.52237\n",
      "Iteration  1500 | Loss    4.39332 | w  1.99538 | b  0.63242 | Error norm 0.36761\n",
      "Iteration  2000 | Loss    4.30515 | w  1.99714 | b  0.74693 | Error norm 0.25309\n",
      "Iteration  2500 | Loss    4.25676 | w  1.99780 | b  0.83176 | Error norm 0.16825\n",
      "Iteration  3000 | Loss    4.23021 | w  1.99823 | b  0.89461 | Error norm 0.10541\n",
      "Iteration  3500 | Loss    4.21563 | w  1.99855 | b  0.94117 | Error norm 0.05885\n",
      "Iteration  4000 | Loss    4.20763 | w  1.99879 | b  0.97566 | Error norm 0.02437\n",
      "Iteration  4500 | Loss    4.20324 | w  1.99896 | b  1.00121 | Error norm 0.00160\n",
      "Iteration  5000 | Loss    4.20084 | w  1.99908 | b  1.02014 | Error norm 0.02016\n",
      "Iteration  5500 | Loss    4.19951 | w  1.99918 | b  1.03417 | Error norm 0.03418\n",
      "Iteration  6000 | Loss    4.19879 | w  1.99925 | b  1.04456 | Error norm 0.04456\n",
      "Iteration  6500 | Loss    4.19839 | w  1.99931 | b  1.05225 | Error norm 0.05226\n",
      "Iteration  7000 | Loss    4.19817 | w  1.99935 | b  1.05796 | Error norm 0.05796\n",
      "Iteration  7500 | Loss    4.19805 | w  1.99938 | b  1.06218 | Error norm 0.06218\n",
      "Iteration  8000 | Loss    4.19798 | w  1.99940 | b  1.06531 | Error norm 0.06531\n",
      "Iteration  8500 | Loss    4.19795 | w  1.99941 | b  1.06763 | Error norm 0.06763\n",
      "Iteration  9000 | Loss    4.19793 | w  1.99942 | b  1.06935 | Error norm 0.06935\n",
      "Iteration  9500 | Loss    4.19792 | w  1.99943 | b  1.07062 | Error norm 0.07062\n",
      "Iteration  9999 | Loss    4.19791 | w  1.99943 | b  1.07156 | Error norm 0.07156\n",
      "Final weight after optimization : 1.99943 (true: 2)\n",
      "Final bias after optimization   : 1.07156 (true: 1)\n"
     ]
    }
   ],
   "source": [
    "# Hyperparameters\n",
    "num_iters = 10000\n",
    "learning_rate = 3e-4\n",
    "\n",
    "# Loop over the number of iterations\n",
    "for it in range(num_iters):\n",
    "    # predict y from x\n",
    "    Y_pred = lin_model(params, X)\n",
    "\n",
    "    # Compute the loss\n",
    "    loss = loss_fn(Y_pred, Y)\n",
    "\n",
    "    # Gradient of loss function w.r.t parameters\n",
    "    loss.backward()\n",
    "    \n",
    "    # update parameters via gradient descent update rules\n",
    "    with torch.no_grad():\n",
    "        params -= learning_rate * params.grad\n",
    "        params.grad.zero_()\n",
    "\n",
    "    # Give some status output once in a while\n",
    "    if it % 500 == 0 or it == num_iters - 1:\n",
    "        w, b = params\n",
    "        error_norm = torch.sum(torch.square(params - params_true)) ** 0.5\n",
    "        print(\n",
    "            f\"Iteration {it:5d} | Loss {loss.item():>10.5f} | \"\n",
    "            f\"w {w.item():> 8.5f} | b {b.item():> 8.5f} | Error norm {error_norm.item():>.5f}\"\n",
    "        )\n",
    "\n",
    "w, b = params\n",
    "print(f\"Final weight after optimization : {w.item():.5f} (true: {w_true})\")\n",
    "print(f\"Final bias after optimization   : {b.item():.5f} (true: {b_true})\")"
   ]
  },
  {
   "cell_type": "markdown",
   "metadata": {},
   "source": [
    "Visualize linear fit"
   ]
  },
  {
   "cell_type": "code",
   "execution_count": 56,
   "metadata": {},
   "outputs": [
    {
     "data": {
      "image/png": "[encoded data removed]",
      "text/plain": [
       "<Figure size 640x480 with 1 Axes>"
      ]
     },
     "metadata": {},
     "output_type": "display_data"
    }
   ],
   "source": [
    "# Visualize\n",
    "plt.scatter(X, Y, alpha=0.5)\n",
    "plt.title(\"Scatter plot of f(x) = 2x + 1 + Gaussian noise\")\n",
    "\n",
    "# Plot the recovered line\n",
    "Y_model = lin_model(params, X)\n",
    "plt.plot(X.tolist(), Y_model.tolist(), color=\"red\")\n",
    "\n",
    "plt.legend([\"data\", f\"f(x) = {w.item():.3f}x + {b.item():.3f}\"])\n",
    "plt.show()"
   ]
  }
 ],
 "metadata": {
  "colab": {
   "collapsed_sections": [
    "JcF1mpJo-taz"
   ],
   "provenance": []
  },
  "kernelspec": {
   "display_name": "cv-ml-torch",
   "language": "python",
   "name": "cv-ml-torch"
  },
  "language_info": {
   "codemirror_mode": {
    "name": "ipython",
    "version": 3
   },
   "file_extension": ".py",
   "mimetype": "text/x-python",
   "name": "python",
   "nbconvert_exporter": "python",
   "pygments_lexer": "ipython3",
   "version": "3.10.16"
  }
 },
 "nbformat": 4,
 "nbformat_minor": 0
}
