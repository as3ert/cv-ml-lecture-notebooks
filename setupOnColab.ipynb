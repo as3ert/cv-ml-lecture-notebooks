{
 "cells": [
  {
   "cell_type": "markdown",
   "metadata": {},
   "source": [
    "# Setup\n",
    "\n",
    "Markus Enzweiler, markus.enzweiler@hs-esslingen.de\n",
    "\n",
    "This is a demo used in a Computer Vision & Machine Learning lecture. Feel free to use and contribute.\n",
    "\n",
    "Execute this notebook on Google Colab to mount your Google drive and checkout the cv-ml-lecture-notebooks repository. \n",
    "\n",
    "**Change `gdrive_repo_root` to your desired location on Google drive.**"
   ]
  },
  {
   "cell_type": "code",
   "execution_count": null,
   "metadata": {},
   "outputs": [],
   "source": [
    "import os\n",
    "import subprocess\n",
    "\n",
    "# Google drive mount point\n",
    "gdrive_mnt = \"/content/drive\"\n",
    "\n",
    "####################\n",
    "### CHANGE THIS ####\n",
    "####################\n",
    "\n",
    "# Target dir for cv-ml-lecture-notebooks repo on Google Drive\n",
    "gdrive_repo_root = gdrive_mnt + \"/MyDrive/cv-ml-lecture-notebooks\"\n",
    "\n",
    "# Branch of cv-ml-lecture-notebooks to checkout\n",
    "branch_name = \"main\"\n",
    "###################"
   ]
  },
  {
   "cell_type": "code",
   "execution_count": null,
   "metadata": {},
   "outputs": [],
   "source": [
    "def clone(repo_url, repo_target_dir, branch_name, verbose=True):\n",
    "    # Check if the directory already exists using the absolute path\n",
    "    if os.path.exists(repo_target_dir):\n",
    "        if verbose:\n",
    "            print(\n",
    "                f\"Repository {repo_target_dir} exists. Resetting to {branch_name} branch...\"\n",
    "            )\n",
    "        # reset to the specified branch\n",
    "        reset_to_head_cmd(repo_target_dir, branch_name)\n",
    "    else:\n",
    "        if verbose:\n",
    "            print(f\"Cloning repository {repo_url} on branch {branch_name}...\")\n",
    "        # Clone the repository if it doesn't exist, and checkout the specified branch\n",
    "        clone_cmd(repo_url, repo_target_dir, branch_name)\n",
    "\n",
    "    if verbose:\n",
    "        print(f\"Repository {repo_target_dir} is ready.\")\n",
    "\n",
    "\n",
    "def clone_cmd(repo_url, repo_target_dir, branch_name):\n",
    "    subprocess.run([\"git\", \"clone\", \"-b\", branch_name, repo_url, repo_target_dir])\n",
    "\n",
    "\n",
    "def reset_to_head_cmd(repo_target_dir, branch_name):\n",
    "    # Fetch the latest changes from the remote\n",
    "    subprocess.run([\"git\", \"-C\", repo_target_dir, \"fetch\", \"origin\"])\n",
    "    # Checkout the specified branch\n",
    "    subprocess.run([\"git\", \"-C\", repo_target_dir, \"checkout\", branch_name])\n",
    "    # Reset the local branch to the latest commit of the specified branch\n",
    "    subprocess.run(\n",
    "        [\"git\", \"-C\", repo_target_dir, \"reset\", \"--hard\", f\"origin/{branch_name}\"]\n",
    "    )"
   ]
  },
  {
   "cell_type": "code",
   "execution_count": null,
   "metadata": {},
   "outputs": [],
   "source": [
    "# Mount Google Drive\n",
    "from google.colab import drive\n",
    "\n",
    "drive.mount(gdrive_mnt, force_remount=True)\n",
    "\n",
    "# Clone the repository\n",
    "repo_name = \"cv-ml-lecture-notebooks\"\n",
    "repo_url = f\"https://github.com/menzHSE/{repo_name}\"\n",
    "clone(repo_url, gdrive_repo_root, branch_name, verbose=True)"
   ]
  }
 ],
 "metadata": {
  "language_info": {
   "name": "python"
  }
 },
 "nbformat": 4,
 "nbformat_minor": 2
}
