{
 "cells": [
  {
   "cell_type": "markdown",
   "metadata": {},
   "source": [
    "# Convolutional Deep Generative Adversarial Networks (DCGAN) using PyTorch\n",
    "\n",
    "Author: [Markus Enzweiler](https://markus-enzweiler-de), markus.enzweiler@hs-esslingen.de\n",
    "\n",
    "This is a demo used in a Computer Vision & Machine Learning lecture. Feel free to use and contribute."
   ]
  },
  {
   "cell_type": "markdown",
   "metadata": {},
   "source": [
    "**See `gan_torch_mnist.ipynb` for a more in-depth notebook on GANs.**"
   ]
  },
  {
   "cell_type": "markdown",
   "metadata": {},
   "source": [
    "## Setup\n",
    "\n",
    "Adapt `packagePath` to point to the directory containing this notebeook."
   ]
  },
  {
   "cell_type": "code",
   "execution_count": null,
   "metadata": {},
   "outputs": [],
   "source": [
    "# Notebook id\n",
    "nb_id = \"gan/torch\"\n",
    "\n",
    "# Imports\n",
    "import sys\n",
    "import os"
   ]
  },
  {
   "cell_type": "code",
   "execution_count": null,
   "metadata": {},
   "outputs": [],
   "source": [
    "# Package Path (folder of this notebook)\n",
    "\n",
    "#####################\n",
    "# Local environment #\n",
    "#####################\n",
    "\n",
    "package_path = \"./\"\n",
    "\n",
    "\n",
    "#########\n",
    "# Colab #\n",
    "#########\n",
    "\n",
    "\n",
    "def check_for_colab():\n",
    "  try:\n",
    "      import google.colab\n",
    "      return True\n",
    "  except ImportError:\n",
    "      return False\n",
    "\n",
    "# running on Colab?\n",
    "on_colab = check_for_colab()\n",
    "\n",
    "if on_colab:\n",
    "\n",
    "    # assume this notebook is run from Google Drive and the whole\n",
    "    # cv-ml-lecture-notebooks repo has been setup via setupOnColab.ipynb\n",
    "\n",
    "    # Google Drive mount point\n",
    "    gdrive_mnt = '/content/drive'\n",
    "\n",
    "    ##########################################################################\n",
    "    # Ensure that this is the same as gdrive_repo_root in setupOnColab.ipynb #\n",
    "    ##########################################################################\n",
    "    # Path on Google Drive to the cv-ml-lecture-notebooks repo\n",
    "    gdrive_repo_root = f\"{gdrive_mnt}/MyDrive/cv-ml-lecture-notebooks\"\n",
    "\n",
    "    # mount drive\n",
    "    from google.colab import drive\n",
    "    drive.mount(gdrive_mnt, force_remount=True)\n",
    "\n",
    "    # set package path\n",
    "    package_path = f\"{gdrive_repo_root}/{nb_id}\"\n",
    "\n",
    "# check whether package path exists\n",
    "if not os.path.isdir(package_path):\n",
    "  raise FileNotFoundError(f\"Package path does not exist: {package_path}\")\n",
    "\n",
    "print(f\"Package path: {package_path}\")\n"
   ]
  },
  {
   "cell_type": "code",
   "execution_count": null,
   "metadata": {},
   "outputs": [],
   "source": [
    "# Additional imports\n",
    "\n",
    "# Repository Root\n",
    "repo_root = os.path.abspath(os.path.join(package_path, \"..\", \"..\"))\n",
    "# Add the repository root to the system path\n",
    "if repo_root not in sys.path:\n",
    "    sys.path.append(repo_root)\n",
    "\n",
    "# Package Imports\n",
    "from nbutils import requirements as nb_reqs\n",
    "from nbutils import colab as nb_colab\n",
    "from nbutils import git as nb_git\n",
    "from nbutils import exec as nb_exec\n",
    "from nbutils import data as nb_data"
   ]
  },
  {
   "cell_type": "code",
   "execution_count": null,
   "metadata": {},
   "outputs": [],
   "source": [
    "# Clone git repository\n",
    "\n",
    "# Absolute path of the repository directory\n",
    "repo_dir = os.path.join(package_path, \"torch-gan\")\n",
    "repo_url = \"https://github.com/menzHSE/torch-gan.git\"\n",
    "\n",
    "nb_git.clone(repo_url, repo_dir, on_colab)"
   ]
  },
  {
   "cell_type": "code",
   "execution_count": null,
   "metadata": {},
   "outputs": [],
   "source": [
    "# Install requirements in the current Jupyter kernel\n",
    "req_file = os.path.join(repo_dir, \"requirements.txt\")\n",
    "nb_reqs.pip_install_reqs(req_file, on_colab)\n",
    "\n",
    "# Additional requirements for this notebook\n",
    "req_file = os.path.join(package_path, \"requirements.txt\")\n",
    "nb_reqs.pip_install_reqs(req_file, on_colab)"
   ]
  },
  {
   "cell_type": "markdown",
   "metadata": {},
   "source": [
    "# Sample CelebA faces\n",
    "\n",
    "If the dataset cannot be automatically downloaded by PyTorch due to **daily quota exceeded** you can manually download it and put it in the ```data/celaba``` folder, see code cell below.\n",
    "\n",
    "The following files are necessary:\n",
    "- img_align_celeba.zip\n",
    "- list_attr_celeba.txt\n",
    "- list_bbox_celeba.txt\n",
    "- list_eval_partition.txt\n",
    "- list_landmarks_align_celeba.txt\n",
    "- list_landmarks_celeba.txt"
   ]
  },
  {
   "cell_type": "code",
   "execution_count": null,
   "metadata": {},
   "outputs": [],
   "source": [
    "# To get around the problem of \"Quota Exceeded\" on the \"official\" CelebA\n",
    "# download via torchvision (https://github.com/pytorch/vision/issues/1920),\n",
    "# we use an alternative data source.\n",
    "\n",
    "# Set this to True to download the dataset from an alternative source\n",
    "use_alternative_data_source = True\n",
    "\n",
    "if use_alternative_data_source:\n",
    "  print(\"Dowloading CelebA ... this will take a while\")\n",
    "  nb_data.download_celeba(\"./data/celeba\", on_colab, verbose=False)\n"
   ]
  },
  {
   "cell_type": "markdown",
   "metadata": {},
   "source": [
    "## Load Model and Data"
   ]
  },
  {
   "cell_type": "code",
   "execution_count": null,
   "metadata": {},
   "outputs": [],
   "source": [
    "import torch\n",
    "import torchvision\n",
    "import numpy as np\n",
    "import matplotlib.pyplot as plt\n",
    "\n",
    "# random seed\n",
    "seed = 42\n",
    "torch.manual_seed(seed)\n",
    "np.random.seed(seed)\n",
    "\n",
    "# Add the directory containing models.py to the system path\n",
    "sys.path.append(os.path.join(package_path, 'torch-gan'))\n",
    "\n",
    "\n",
    "# Now we can import the model and dataset\n",
    "import model\n",
    "import dataset\n",
    "import device\n",
    "\n",
    "# parameters\n",
    "dataset_id       = \"celeb-a\"\n",
    "num_latent_dims  = 100\n",
    "max_num_filters  = 512\n",
    "img_size         = (64, 64)\n",
    "batch_size       = 32\n",
    "model_id         = f\"G_filters_{max_num_filters:04d}_dims_{num_latent_dims:04d}.pth\"\n",
    "gen_fname        = os.path.join(package_path, \"torch-gan\", \"pretrained\", dataset_id, model_id)\n",
    "dev              = device.autoselectDevice()\n",
    "\n",
    "# load dataset\n",
    "celeba_train_loader, celeba_test_loader, _, celeba_num_img_channels = dataset.get_loaders(\n",
    "    dataset_id, img_size=img_size, batch_size=batch_size)\n",
    "\n",
    "# load the generator\n",
    "G = model.Generator(num_latent_dims, celeba_num_img_channels, max_num_filters, dev)\n",
    "G.load(gen_fname, dev)\n",
    "\n",
    "if G:\n",
    "    print(f\"Model {gen_fname} loaded successfully!\")\n",
    "    print(f\"Device used: {dev}\")\n",
    "    G.to(dev)\n",
    "    G.eval()  \n",
    "\n"
   ]
  },
  {
   "cell_type": "markdown",
   "metadata": {},
   "source": [
    "## Show some Training Images"
   ]
  },
  {
   "cell_type": "code",
   "execution_count": null,
   "metadata": {},
   "outputs": [],
   "source": [
    "def normalizeForDisplay(images):\n",
    "    # normalize from [-1, 1] to [0, 1]\n",
    "    return (images + 1.0) / 2.0"
   ]
  },
  {
   "cell_type": "code",
   "execution_count": null,
   "metadata": {},
   "outputs": [],
   "source": [
    "import matplotlib.pyplot as plt\n",
    "\n",
    "# get a batch of images from the training set and display them\n",
    "# we use the torchvision.utils.make_grid function to create a grid of images\n",
    "images, labels = next(iter(celeba_train_loader))\n",
    "grid_img = torchvision.utils.make_grid(normalizeForDisplay(images), nrow=batch_size//4)\n",
    "plt.figure(figsize=(10,10))\n",
    "plt.imshow(np.transpose(grid_img, (1,2,0)))\n",
    "plt.axis('off')\n",
    "plt.title('Batch from the Training Set')\n",
    "plt.show()"
   ]
  },
  {
   "cell_type": "markdown",
   "metadata": {},
   "source": [
    "## Generate CelebA-like Samples"
   ]
  },
  {
   "cell_type": "code",
   "execution_count": null,
   "metadata": {},
   "outputs": [],
   "source": [
    "import utils\n",
    "\n",
    "def sampleAndPlot(G, num_latent_dims, num_samples=batch_size):\n",
    "    with torch.no_grad():\n",
    "        for i in range(num_samples):         \n",
    "      \n",
    "            # generate a random latent vector   \n",
    "            z = utils.sample_latent_vectors(1, num_latent_dims, dev)\n",
    "\n",
    "            # generate an image from the latent vector\n",
    "            img = G(z)\n",
    "\n",
    "            if i == 0:\n",
    "                pics = img\n",
    "            else:\n",
    "                pics = torch.cat((pics, img), dim=0)\n",
    "\n",
    "          \n",
    "        # Create a grid of images\n",
    "        grid_img = torchvision.utils.make_grid(pics, nrow=batch_size//4)\n",
    "\n",
    "        # Convert grid to numpy and transpose axes for plotting\n",
    "        grid_np = grid_img.cpu().numpy()\n",
    "        grid_np = np.transpose(grid_np, (1, 2, 0))\n",
    "\n",
    "        # Plotting\n",
    "        plt.figure(figsize=(10, 10))\n",
    "        plt.imshow(normalizeForDisplay(grid_np))\n",
    "        plt.axis('off')\n",
    "        plt.title(f'Randomly Generated Images from the Generator with {num_latent_dims} Latent Dimensions')\n",
    "        plt.show()"
   ]
  },
  {
   "cell_type": "code",
   "execution_count": null,
   "metadata": {},
   "outputs": [],
   "source": [
    "sampleAndPlot(G, num_latent_dims)"
   ]
  }
 ],
 "metadata": {
  "kernelspec": {
   "display_name": "pytorch-m1-2023-10",
   "language": "python",
   "name": "pytorch-m1-2023-10"
  },
  "language_info": {
   "codemirror_mode": {
    "name": "ipython",
    "version": 3
   },
   "file_extension": ".py",
   "mimetype": "text/x-python",
   "name": "python",
   "nbconvert_exporter": "python",
   "pygments_lexer": "ipython3",
   "version": "3.9.18"
  }
 },
 "nbformat": 4,
 "nbformat_minor": 2
}
