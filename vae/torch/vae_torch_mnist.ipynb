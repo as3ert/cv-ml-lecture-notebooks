{
 "cells": [
  {
   "cell_type": "markdown",
   "metadata": {},
   "source": [
    "# Convolutional Variational Autoencoders using PyTorch\n",
    "\n",
    "Markus Enzweiler, markus.enzweiler@hs-esslingen.de\n",
    "\n",
    "This is a demo used in a Computer Vision & Machine Learning lecture. Feel free to use and contribute."
   ]
  },
  {
   "cell_type": "markdown",
   "metadata": {},
   "source": [
    "We analyze convolutional variational autoencoders (VAEs) on datasets such as MNIST and CelebA. We use the Python code and pretrained models from https://github.com/menzHSE/torch-vae. This notebook does not show how to train VAEs. Plese refer to https://github.com/menzHSE/torch-vae for that. "
   ]
  },
  {
   "cell_type": "markdown",
   "metadata": {},
   "source": [
    "Good overviews of variational autoencoders are provided in [arXiv:1906.02691](https://arxiv.org/abs/1906.02691) and [arXiv:1312.6114](https://arxiv.org/abs/1312.6114).\n",
    "\n",
    "In our implementation, the input image is not directly mapped to a single latent vector. Instead, it's transformed into a probability distribution within the latent space, from which we sample a latent vector for reconstruction. The process involves:\n",
    "\n",
    "1. **Encoding to Probability Distribution**: \n",
    "   - The input image is linearly mapped to two vectors: \n",
    "     - A **mean vector**.\n",
    "     - A **standard deviation vector**.\n",
    "   - These vectors define a normal distribution in the latent space.\n",
    "\n",
    "2. **Auxiliary Loss for Distribution Shape**: \n",
    "   - We ensure the latent space distribution resembles a zero-mean unit-variance Gaussian distribution (standard normal distribution).\n",
    "   - An auxiliary loss, the Kullback-Leibler (KL) divergence between the mapped distribution and the standard normal distribution, is used in addition to the standard reconstruction loss\n",
    "   - This loss guides the training to shape the latent distribution accordingly.\n",
    "   - It ensures a well-structured and generalizable latent space for generating new images.\n",
    "\n",
    "3. **Sampling and Decoding**: \n",
    "   - The variational approach allows for sampling from the defined distribution in the latent space.\n",
    "   - These samples are then used by the decoder to generate new images.\n",
    "\n",
    "4. **Reparametrization Trick**:\n",
    "   - This trick enables backpropagation through random sampling, a crucial step in VAEs. Normally, backpropagating through a random sampling process from a distribution with mean ```mu``` and standard deviation ```sigma``` is challenging due to its nondeterministic nature.\n",
    "   - The solution involves initially sampling random values from a standard normal distribution (mean 0, standard deviation 1). These values are then linearly transformed by multiplying with ```sigma``` and adding ```mu```. This process essentially samples from our target distribution with mean ```mu``` and standard deviation ```sigma```.\n",
    "   - The key benefit of this approach is that the randomness (initial standard normal sampling) is separated from the learnable parameters (```mu``` and ```sigma```). ```Mu``` and ```sigma``` are deterministic and differentiable, allowing gradients with respect to them to be calculated during backpropagation. This enables the model to effectively learn from the data."
   ]
  },
  {
   "cell_type": "markdown",
   "metadata": {},
   "source": [
    "## Setup\n",
    "\n",
    "Adapt `packagePath` to point to the directory containing this notebeook."
   ]
  },
  {
   "cell_type": "code",
   "execution_count": null,
   "metadata": {},
   "outputs": [],
   "source": [
    "# Imports\n",
    "import sys\n",
    "import os\n",
    "import subprocess\n",
    "import numpy as np"
   ]
  },
  {
   "cell_type": "code",
   "execution_count": null,
   "metadata": {},
   "outputs": [],
   "source": [
    "# Package Path\n",
    "package_path = \"./\" # local\n",
    "print(f\"Package path: {package_path}\")\n",
    "\n",
    "\n",
    "def check_for_colab():\n",
    "  try:\n",
    "      import google.colab\n",
    "      return True\n",
    "  except ImportError:\n",
    "      return False\n",
    "\n",
    "# Running on Colab?\n",
    "on_colab = check_for_colab()\n"
   ]
  },
  {
   "cell_type": "code",
   "execution_count": null,
   "metadata": {},
   "outputs": [],
   "source": [
    "# Clone git repository\n",
    "\n",
    "# Absolute path of the repository directory\n",
    "repo_dir = os.path.join(package_path, \"torch-vae\")\n",
    "repo_url = \"https://github.com/menzHSE/torch-vae.git\"\n",
    "\n",
    "# Store the original working directory\n",
    "original_cwd = os.getcwd()\n",
    "\n",
    "# Check if the directory already exists using the absolute path\n",
    "if os.path.exists(os.path.join(original_cwd, repo_dir)):\n",
    "    print(\"Repository exists. Resetting to HEAD...\")\n",
    "    # Navigate into the repository directory\n",
    "    os.chdir(repo_dir)\n",
    "    # Fetch the latest changes from the remote\n",
    "    subprocess.run([\"git\", \"fetch\", \"origin\"])\n",
    "    # Reset the local branch to the latest commit from the remote\n",
    "    subprocess.run([\"git\", \"reset\", \"--hard\", \"origin/HEAD\"])\n",
    "    # Change back to the original working directory\n",
    "    os.chdir(original_cwd)\n",
    "else:\n",
    "    print(\"Cloning repository...\")\n",
    "    # Clone the repository if it doesn't exist\n",
    "    subprocess.run([\"git\", \"clone\", repo_url, repo_dir])\n"
   ]
  },
  {
   "cell_type": "code",
   "execution_count": null,
   "metadata": {},
   "outputs": [],
   "source": [
    "# Install requirements in the current Jupyter kernel\n",
    "req_file = os.path.join(repo_dir, \"requirements.txt\")\n",
    "if os.path.exists(req_file):\n",
    "    !{sys.executable} -m pip install -r {req_file}\n",
    "else:\n",
    "    print(f\"Requirements file not found: {req_file}\")\n",
    "\n",
    "\n",
    "# Additional requirements for this notebook\n",
    "req_file = \"requirements.txt\"\n",
    "if os.path.exists(req_file):\n",
    "    !{sys.executable} -m pip install -r {req_file}\n",
    "else:\n",
    "    print(f\"Requirements file not found: {req_file}\")\n",
    "    "
   ]
  },
  {
   "cell_type": "markdown",
   "metadata": {},
   "source": [
    "# Latent Space Analysis using MNIST\n",
    "\n",
    "To analyze the concept of the latent space, we use a  VAE with 2 latent dimensions pretrained on MNIST from https://github.com/menzHSE/torch-vae. This makes it easy to visualize. "
   ]
  },
  {
   "cell_type": "markdown",
   "metadata": {},
   "source": [
    "## Load the MNIST VAE model"
   ]
  },
  {
   "cell_type": "code",
   "execution_count": null,
   "metadata": {},
   "outputs": [],
   "source": [
    "import torch\n",
    "import torchvision\n",
    "\n",
    "# random seed\n",
    "seed = 0\n",
    "torch.manual_seed(seed)\n",
    "np.random.seed(seed)\n",
    "\n",
    "# Add the directory containing models.py to the system path\n",
    "sys.path.append(os.path.join(package_path, 'torch-vae'))\n",
    "\n",
    "\n",
    "# Now we can import the model and dataset\n",
    "import model\n",
    "import dataset\n",
    "import device\n",
    "\n",
    "# parameters\n",
    "dataset_id       = \"mnist\"\n",
    "num_latent_dims  = 2\n",
    "max_num_filters  = 128\n",
    "img_size         = (64, 64)\n",
    "batch_size       = 32\n",
    "model_id         = f\"vae_filters_{max_num_filters:04d}_dims_{num_latent_dims:04d}.pth\"\n",
    "vae_fname        = os.path.join(package_path, \"torch-vae\", \"models\", dataset_id, model_id)\n",
    "device           = device.autoselectDevice()\n",
    "\n",
    "# load dataset\n",
    "mnist_train_loader, mnist_test_loader, mnist_classes_list, mnist_num_img_channels = dataset.get_loaders(\n",
    "    dataset_id, img_size=img_size, batch_size=batch_size)\n",
    "\n",
    "# load the VAE model\n",
    "vae_mnist_2 = model.VAE(num_latent_dims, mnist_num_img_channels, max_num_filters, device)\n",
    "vae_mnist_2.load_state_dict(torch.load(vae_fname, map_location=device));\n",
    "\n",
    "if vae_mnist_2:\n",
    "    print(f\"Model {vae_fname} loaded successfully!\")\n",
    "    print(f\"Device used: {device}\")\n",
    "    vae_mnist_2.to(device)\n",
    "    vae_mnist_2.eval()\n"
   ]
  },
  {
   "cell_type": "markdown",
   "metadata": {},
   "source": [
    "## Show some training images"
   ]
  },
  {
   "cell_type": "code",
   "execution_count": null,
   "metadata": {},
   "outputs": [],
   "source": [
    "import matplotlib.pyplot as plt\n",
    "\n",
    "# get a batch of images from the training set and display them\n",
    "# we use the torchvision.utils.make_grid function to create a grid of images\n",
    "images, labels = next(iter(mnist_train_loader))\n",
    "grid_img = torchvision.utils.make_grid(images, nrow=batch_size//4)\n",
    "plt.figure(figsize=(10,10))\n",
    "plt.imshow(np.transpose(grid_img, (1,2,0)))\n",
    "plt.axis('off')\n",
    "plt.title('Batch from the Training Set')\n",
    "plt.show()\n"
   ]
  },
  {
   "cell_type": "markdown",
   "metadata": {},
   "source": [
    "## Visualize the data distribution in latent space"
   ]
  },
  {
   "cell_type": "markdown",
   "metadata": {},
   "source": [
    "Classes are clustered quite well with similar classes, such as 1 and 7, being close to each other in latent space. Classes 3,5,8 are rather mixed, since they share many common attributes. The whole distribution resembles a 2D zero-mean unit-variance Gaussian. "
   ]
  },
  {
   "cell_type": "code",
   "execution_count": null,
   "metadata": {},
   "outputs": [],
   "source": [
    "# Encode all training images and plot the two-dimensional latent space \n",
    "# representation colored by the class label\n",
    "\n",
    "# Initialize lists to collect latent vectors and labels\n",
    "latent_vectors = []\n",
    "all_labels = []\n",
    "\n",
    "# Loop through the dataset\n",
    "for i, data in enumerate(mnist_train_loader):                \n",
    "    with torch.no_grad():\n",
    "        print(f\"Encoded batch {i+1}/{len(mnist_train_loader)}\", end='\\r')\n",
    "        images, labels = data[0].to(device), data[1].to(device)\n",
    "\n",
    "        # Encode image(s) to latent vector(s)\n",
    "        z = vae_mnist_2.encode(images).cpu().numpy()  \n",
    "        latent_vectors.append(z)\n",
    "        all_labels.append(labels.cpu().numpy())\n",
    "\n",
    "# Concatenate all collected vectors and labels\n",
    "latent_vectors = np.concatenate(latent_vectors, axis=0)\n",
    "all_labels = np.concatenate(all_labels, axis=0)       "
   ]
  },
  {
   "cell_type": "code",
   "execution_count": null,
   "metadata": {},
   "outputs": [],
   "source": [
    "# Create a figure\n",
    "plt.figure(figsize=(10, 8))\n",
    "\n",
    "# Scatter plot of latent vectors\n",
    "# Adjust size (s) and color (c) as needed\n",
    "plt.scatter(latent_vectors[:, 0], latent_vectors[:, 1], alpha=0.7, c=all_labels, cmap='tab10', s=10)\n",
    "\n",
    "# Colorbar and labels\n",
    "plt.colorbar()\n",
    "plt.axis('equal')\n",
    "plt.xlabel('Latent Dimension 1')\n",
    "plt.ylabel('Latent Dimension 2')\n",
    "plt.title('Latent Space Representation of MNIST Training Set')\n",
    "\n",
    "# Adjust plot limits if needed\n",
    "xlim = [-4, 4]\n",
    "ylim = [-4, 4]\n",
    "plt.xlim(xlim)\n",
    "plt.ylim(ylim)\n",
    "\n",
    "# Show plot\n",
    "plt.show()\n",
    "\n",
    "# mean and covariance of the latent space\n",
    "mu = latent_vectors.mean(axis=0)\n",
    "cov = np.cov(latent_vectors.T)\n",
    "print(f\"Mean and covariance of the latent space:\\nmu={mu}\\ncov={cov}\")\n"
   ]
  },
  {
   "cell_type": "markdown",
   "metadata": {},
   "source": [
    "## Visualize reconstructions in the latent space"
   ]
  },
  {
   "cell_type": "code",
   "execution_count": null,
   "metadata": {},
   "outputs": [],
   "source": [
    "# Generate a grid of images by uniformly sampling the latent space\n",
    "# and decode the latent vectors to images\n",
    "\n",
    "# Number of images per row and column\n",
    "n = 20\n",
    "\n",
    "# Size of each image (assuming square images)\n",
    "image_size = 64  \n",
    "\n",
    "# Limits of the latent space\n",
    "xlim = [-4, 4]\n",
    "ylim = [-4, 4]\n",
    "\n",
    "# Number of ticks on each axis\n",
    "num_ticks = 9\n",
    "\n",
    "# Create a grid of latent vectors\n",
    "x = np.linspace(xlim[0], xlim[1], n)\n",
    "y = np.linspace(ylim[1], ylim[0], n)\n",
    "xx, yy = np.meshgrid(x, y)\n",
    "\n",
    "# Create an empty array for the large image\n",
    "large_image = np.zeros((n * image_size, n * image_size))\n",
    "\n",
    "# Loop through the grid\n",
    "for i in range(n):\n",
    "    for j in range(n):\n",
    "        # Get the latent vector\n",
    "        z = np.array([[xx[i, j], yy[i, j]]])\n",
    "        \n",
    "        # Decode the latent vector to an image\n",
    "        with torch.no_grad():\n",
    "            x_decoded = vae_mnist_2.decode(torch.from_numpy(z).float().to(device)).cpu().numpy()\n",
    "        \n",
    "        # Place the decoded image in the large array\n",
    "        large_image[i*image_size:(i+1)*image_size, j*image_size:(j+1)*image_size] = x_decoded[0, 0]\n",
    "\n",
    "# Create a figure\n",
    "plt.figure(figsize=(10, 10))\n",
    "\n",
    "# Display the large image\n",
    "plt.imshow(large_image, cmap='gray')\n",
    "\n",
    "# Set the ticks to correspond to the latent space values\n",
    "tick_positions_x = np.linspace(0, n*image_size, num_ticks)\n",
    "tick_labels_x = np.linspace(xlim[0], xlim[1], num_ticks)\n",
    "plt.xticks(ticks=tick_positions_x, labels=[f'{val:.1f}' for val in tick_labels_x])\n",
    "\n",
    "tick_positions_y = np.linspace(0, n*image_size, num_ticks)\n",
    "tick_labels_y = np.linspace(ylim[0], ylim[1], num_ticks)\n",
    "plt.yticks(ticks=tick_positions_y, labels=[f'{val:.1f}' for val in reversed(tick_labels_y)])  # Reversed y-labels\n",
    "\n",
    "# Labels and title\n",
    "plt.xlabel('Latent Dimension 1')\n",
    "plt.ylabel('Latent Dimension 2')\n",
    "plt.title('Grid of Images Sampled from Latent Space')\n",
    "\n",
    "# Show the plot\n",
    "plt.show()\n"
   ]
  },
  {
   "cell_type": "markdown",
   "metadata": {},
   "source": [
    "# Reconstruction of the MNIST test samples\n",
    "\n",
    "Here, we reconstruct the (unknown) MNIST test samples by encoding and decoding them. We additionally use a model with more latent dimensions here. Two latent dimensions is good for visually analyzing the latent space but typically too few dimensions for good reconstruction."
   ]
  },
  {
   "cell_type": "code",
   "execution_count": null,
   "metadata": {},
   "outputs": [],
   "source": [
    "def reconstructAndPlot(vae, num_latent_dims, data_loader):\n",
    "    # Take the first batch from the data_loader\n",
    "    data = next(iter(data_loader))\n",
    "    with torch.no_grad():\n",
    "        # Get the testing data and push the data to the device we are using       \n",
    "        images = data[0].to(device)\n",
    "\n",
    "        # Reconstruct (encode and decode) the images\n",
    "        images_recon = vae(images)\n",
    "\n",
    "        # Interleave original and reconstructed images\n",
    "        images_comparison = torch.stack([images, images_recon], dim=1).view(-1, *images.size()[1:])\n",
    "\n",
    "        # Display the images in a grid\n",
    "        # nrow is set to 2 since we want each pair (original and reconstructed) to be side by side\n",
    "        grid_img = torchvision.utils.make_grid(images_comparison.cpu(), nrow=batch_size//4)\n",
    "\n",
    "    # Convert grid to numpy and transpose axes for plotting\n",
    "    grid_np = grid_img.numpy()\n",
    "    grid_np = np.transpose(grid_np, (1, 2, 0))\n",
    "\n",
    "    # Plotting\n",
    "    plt.figure(figsize=(15, 15))\n",
    "    plt.imshow(grid_np)\n",
    "    plt.axis('off')\n",
    "    plt.title(f'Original and Reconstructed Images with {num_latent_dims} Latent Dimensions')\n",
    "    plt.show()\n",
    "    "
   ]
  },
  {
   "cell_type": "markdown",
   "metadata": {},
   "source": [
    "Visualization using the VAE with two latent dimensions."
   ]
  },
  {
   "cell_type": "code",
   "execution_count": null,
   "metadata": {},
   "outputs": [],
   "source": [
    "# load the VAE model\n",
    "num_latent_dims  = 2\n",
    "model_id         = f\"vae_filters_{max_num_filters:04d}_dims_{num_latent_dims:04d}.pth\"\n",
    "vae_fname        = os.path.join(package_path, \"torch-vae\", \"models\", \"mnist\", model_id)\n",
    "\n",
    "vae_mnist2 = model.VAE(num_latent_dims, mnist_num_img_channels, max_num_filters, device)\n",
    "vae_mnist2.load_state_dict(torch.load(vae_fname, map_location=device));\n",
    "vae_mnist2.to(device)\n",
    "vae_mnist2.eval()\n",
    "\n",
    "reconstructAndPlot(vae_mnist2, num_latent_dims, mnist_test_loader)"
   ]
  },
  {
   "cell_type": "markdown",
   "metadata": {},
   "source": [
    "Visualization using the VAE with 8 latent dimensions"
   ]
  },
  {
   "cell_type": "code",
   "execution_count": null,
   "metadata": {},
   "outputs": [],
   "source": [
    "# load the VAE model\n",
    "num_latent_dims  = 8\n",
    "model_id         = f\"vae_filters_{max_num_filters:04d}_dims_{num_latent_dims:04d}.pth\"\n",
    "vae_fname        = os.path.join(package_path, \"torch-vae\", \"models\", \"mnist\", model_id)\n",
    "\n",
    "vae_mnist_8 = model.VAE(num_latent_dims, mnist_num_img_channels, max_num_filters, device)\n",
    "vae_mnist_8.load_state_dict(torch.load(vae_fname, map_location=device));\n",
    "vae_mnist_8.to(device)\n",
    "vae_mnist_8.eval()\n",
    "\n",
    "reconstructAndPlot(vae_mnist_8, num_latent_dims, mnist_test_loader)"
   ]
  },
  {
   "cell_type": "markdown",
   "metadata": {},
   "source": [
    "# Generate random MNIST-like samples from the VAE\n",
    "\n",
    "The variational autoencoders are trained in a way that the distribution in latent space resembles a normal distribution (see above). To generate samples from the variational autoencoder, we can sample a random normally distributed latent vector and have the decoder generate an image from that."
   ]
  },
  {
   "cell_type": "code",
   "execution_count": null,
   "metadata": {},
   "outputs": [],
   "source": [
    "def sampleAndPlot(vae, num_latent_dims, num_samples=batch_size):\n",
    "    with torch.no_grad():\n",
    "        for i in range(num_samples):         \n",
    "      \n",
    "            # generate a random latent vector\n",
    "            \n",
    "            # during training we have made sure that the distribution in latent\n",
    "            # space remains close to a normal distribution\n",
    "\n",
    "            z = torch.randn(num_latent_dims).to(device)\n",
    "\n",
    "            # generate an image from the latent vector\n",
    "            img = vae.decode(z)\n",
    "\n",
    "            if i == 0:\n",
    "                pics = img\n",
    "            else:\n",
    "                pics = torch.cat((pics, img), dim=0)\n",
    "\n",
    "          \n",
    "        # Create a grid of images\n",
    "        grid_img = torchvision.utils.make_grid(pics, nrow=batch_size//4)\n",
    "\n",
    "        # Convert grid to numpy and transpose axes for plotting\n",
    "        grid_np = grid_img.cpu().numpy()\n",
    "        grid_np = np.transpose(grid_np, (1, 2, 0))\n",
    "\n",
    "        # Plotting\n",
    "        plt.figure(figsize=(10, 10))\n",
    "        plt.imshow(grid_np)\n",
    "        plt.axis('off')\n",
    "        plt.title(f'Randomly Generated Images from the VAE with {num_latent_dims} Latent Dimensions')\n",
    "        plt.show()"
   ]
  },
  {
   "cell_type": "code",
   "execution_count": null,
   "metadata": {},
   "outputs": [],
   "source": [
    "sampleAndPlot(vae_mnist_8, num_latent_dims=8)"
   ]
  }
 ],
 "metadata": {
  "kernelspec": {
   "display_name": "cv-ml-torch",
   "language": "python",
   "name": "cv-ml-torch"
  },
  "language_info": {
   "codemirror_mode": {
    "name": "ipython",
    "version": 3
   },
   "file_extension": ".py",
   "mimetype": "text/x-python",
   "name": "python",
   "nbconvert_exporter": "python",
   "pygments_lexer": "ipython3",
   "version": "3.10.13"
  }
 },
 "nbformat": 4,
 "nbformat_minor": 2
}
