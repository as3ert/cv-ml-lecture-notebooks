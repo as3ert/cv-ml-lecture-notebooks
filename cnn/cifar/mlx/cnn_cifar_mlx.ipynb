{
 "cells": [
  {
   "cell_type": "markdown",
   "metadata": {},
   "source": [
    "# Convolutional neural networks (CNN) for CIFAR-10/100 using MLX\n",
    "\n",
    "Markus Enzweiler, markus.enzweiler@hs-esslingen.de\n",
    "\n",
    "This is a demo used in a Computer Vision & Machine Learning lecture. Feel free to use and contribute."
   ]
  },
  {
   "cell_type": "markdown",
   "metadata": {},
   "source": [
    "We build and train a CNN for CIFAR-10 / CIFAR-100 image classification, see https://www.cs.toronto.edu/~kriz/cifar.html. We use the Python code from https://github.com/menzHSE/mlx-cifar-10-cnn.git and execute it via this notebook. "
   ]
  },
  {
   "cell_type": "markdown",
   "metadata": {},
   "source": [
    "\n",
    "**Note: This requires a machine with an Apple SoC, e.g. M1/M2/M3 etc.**\n",
    "\n",
    "See: https://github.com/ml-explore/mlx"
   ]
  },
  {
   "cell_type": "markdown",
   "metadata": {},
   "source": [
    "## Setup\n",
    "\n",
    "Adapt `packagePath` to point to the directory containing this notebeook."
   ]
  },
  {
   "cell_type": "code",
   "execution_count": 1,
   "metadata": {},
   "outputs": [],
   "source": [
    "# Imports\n",
    "import sys\n",
    "import os\n",
    "import threading\n",
    "import subprocess\n",
    "import fcntl\n",
    "import errno"
   ]
  },
  {
   "cell_type": "code",
   "execution_count": 2,
   "metadata": {},
   "outputs": [
    {
     "name": "stdout",
     "output_type": "stream",
     "text": [
      "Package path: ./\n"
     ]
    }
   ],
   "source": [
    "# Package Path\n",
    "package_path = \"./\" # local\n",
    "print(f\"Package path: {package_path}\")\n",
    "\n",
    "\n",
    "def check_for_colab():\n",
    "  try:\n",
    "      import google.colab\n",
    "      return True\n",
    "  except ImportError:\n",
    "      return False\n",
    "\n",
    "# Running on Colab?\n",
    "on_colab = check_for_colab()"
   ]
  },
  {
   "cell_type": "code",
   "execution_count": 3,
   "metadata": {},
   "outputs": [
    {
     "name": "stdout",
     "output_type": "stream",
     "text": [
      "Repository exists. Resetting to HEAD...\n",
      "HEAD is now at d09c838 fixed saving to dirs\n"
     ]
    },
    {
     "name": "stderr",
     "output_type": "stream",
     "text": [
      "From https://github.com/menzHSE/mlx-cifar-10-cnn\n",
      "   54b4cf2..d09c838  main       -> origin/main\n"
     ]
    }
   ],
   "source": [
    "# Clone git repository\n",
    "\n",
    "# Absolute path of the repository directory\n",
    "repo_dir = os.path.join(package_path, \"mlx-cifar-10-cnn\")\n",
    "repo_url = \"https://github.com/menzHSE/mlx-cifar-10-cnn.git\"\n",
    "\n",
    "# Store the original working directory\n",
    "original_cwd = os.getcwd()\n",
    "\n",
    "# Check if the directory already exists using the absolute path\n",
    "if os.path.exists(os.path.join(original_cwd, repo_dir)):\n",
    "    print(\"Repository exists. Resetting to HEAD...\")\n",
    "    # Navigate into the repository directory\n",
    "    os.chdir(repo_dir)\n",
    "    # Fetch the latest changes from the remote\n",
    "    subprocess.run([\"git\", \"fetch\", \"origin\"])\n",
    "    # Reset the local branch to the latest commit from the remote\n",
    "    subprocess.run([\"git\", \"reset\", \"--hard\", \"origin/HEAD\"])\n",
    "    # Change back to the original working directory\n",
    "    os.chdir(original_cwd)\n",
    "else:\n",
    "    print(\"Cloning repository...\")\n",
    "    # Clone the repository if it doesn't exist\n",
    "    subprocess.run([\"git\", \"clone\", repo_url, repo_dir])\n"
   ]
  },
  {
   "cell_type": "code",
   "execution_count": 4,
   "metadata": {},
   "outputs": [
    {
     "name": "stdout",
     "output_type": "stream",
     "text": [
      "Requirement already satisfied: mlx in /Users/menzweil/Development/miniforge3/envs/mlx-m1-2023-12/lib/python3.11/site-packages (from -r ./mlx-cifar-10-cnn/requirements.txt (line 1)) (0.0.6)\n",
      "Requirement already satisfied: mlx-data in /Users/menzweil/Development/miniforge3/envs/mlx-m1-2023-12/lib/python3.11/site-packages (from -r ./mlx-cifar-10-cnn/requirements.txt (line 2)) (0.0.1.dev20231220+074f98e)\n",
      "Requirement already satisfied: numpy in /Users/menzweil/Development/miniforge3/envs/mlx-m1-2023-12/lib/python3.11/site-packages (from -r ./mlx-cifar-10-cnn/requirements.txt (line 3)) (1.26.2)\n",
      "Requirement already satisfied: Pillow in /Users/menzweil/Development/miniforge3/envs/mlx-m1-2023-12/lib/python3.11/site-packages (from -r ./mlx-cifar-10-cnn/requirements.txt (line 4)) (10.1.0)\n"
     ]
    }
   ],
   "source": [
    "# Install requirements in the current Jupyter kernel\n",
    "req_file = os.path.join(repo_dir, \"requirements.txt\")\n",
    "if os.path.exists(req_file):\n",
    "    !{sys.executable} -m pip install -r {req_file}\n",
    "else:\n",
    "    print(f\"Requirements file not found: {req_file}\")"
   ]
  },
  {
   "cell_type": "markdown",
   "metadata": {},
   "source": [
    "## Functions to interface with the code in the repository"
   ]
  },
  {
   "cell_type": "code",
   "execution_count": 5,
   "metadata": {},
   "outputs": [],
   "source": [
    "def execute(script_name, params=None):\n",
    "    if on_colab:\n",
    "        executeCaptureColab(script_name, params)\n",
    "    else:\n",
    "        executeCapture(script_name, params)\n",
    "\n",
    "def executeCapture(script_name, params=None):\n",
    "    script_path = os.path.join(repo_dir, script_name)\n",
    "    if os.path.exists(script_path):\n",
    "        print(f\"Executing script: {script_path}\")\n",
    "        # Create the command list starting with Python and the script path\n",
    "        command = [\"python\", script_path]\n",
    "        # Add additional arguments from the params dictionary\n",
    "        if params:\n",
    "            for key, value in params.items():\n",
    "                command.append(f\"--{key}\")\n",
    "                command.append(str(value))\n",
    "        print(command)\n",
    "        subprocess.run(command)\n",
    "    else:\n",
    "        print(f\"Script not found: {script_path}\")\n",
    "\n",
    "# This is very hacky ... but it's hard to capture the output of a subprocess in Colab\n",
    "def executeCaptureColab(script_name, params=None):\n",
    "    script_path = os.path.join(repo_dir, script_name)\n",
    "    if os.path.exists(script_path):\n",
    "        print(f\"Executing script: {script_path}\")\n",
    "        # Create the command list starting with Python and the script path\n",
    "        command = [\"python\", script_path]\n",
    "        # Add additional arguments from the params dictionary\n",
    "        if params:\n",
    "            for key, value in params.items():\n",
    "                if value is not None:  # Check if the value is None\n",
    "                    command.append(f\"--{key}\")\n",
    "                    command.append(str(value))\n",
    "                else:\n",
    "                    command.append(f\"--{key}\")\n",
    "        print(\"Command:\", \" \".join(command))\n",
    "\n",
    "        # Start the subprocess\n",
    "        process = subprocess.Popen(command, stdout=subprocess.PIPE, stderr=subprocess.STDOUT, text=True)\n",
    "\n",
    "        # Set the stdout to non-blocking\n",
    "        fd = process.stdout.fileno()\n",
    "        fl = fcntl.fcntl(fd, fcntl.F_GETFL)\n",
    "        fcntl.fcntl(fd, fcntl.F_SETFL, fl | os.O_NONBLOCK)\n",
    "\n",
    "        # Function to continuously output lines from a stream\n",
    "        def stream_output(stream):\n",
    "            while True:\n",
    "                try:\n",
    "                    line = stream.readline()\n",
    "                    if line:\n",
    "                        print(line, end='')\n",
    "                    elif process.poll() is not None:\n",
    "                        break\n",
    "                except IOError as e:\n",
    "                    # Ignore the error if no data is available yet\n",
    "                    if e.errno != errno.EAGAIN and e.errno != errno.EWOULDBLOCK:\n",
    "                        raise\n",
    "\n",
    "        # Use a thread to capture the output stream\n",
    "        output_thread = threading.Thread(target=stream_output, args=(process.stdout,))\n",
    "        output_thread.start()\n",
    "\n",
    "        # Wait for the subprocess to complete and the output thread to end\n",
    "        process.wait()\n",
    "        output_thread.join()\n",
    "\n",
    "    else:\n",
    "        print(f\"Script not found: {script_path}\")"
   ]
  },
  {
   "cell_type": "code",
   "execution_count": 6,
   "metadata": {},
   "outputs": [
    {
     "name": "stdout",
     "output_type": "stream",
     "text": [
      "Executing script: ./mlx-cifar-10-cnn/train.py\n",
      "['python', './mlx-cifar-10-cnn/train.py', '--help', 'None']\n",
      "usage: Train a simple CNN on CIFAR-10 / CIFAR_100 with mlx.\n",
      "       [-h] [--cpu] [--seed SEED] [--batchsize BATCHSIZE] [--epochs EPOCHS]\n",
      "       [--lr LR] [--dataset {CIFAR-10,CIFAR-100}]\n",
      "\n",
      "options:\n",
      "  -h, --help            show this help message and exit\n",
      "  --cpu                 Use CPU instead of Metal GPU acceleration\n",
      "  --seed SEED           Random seed\n",
      "  --batchsize BATCHSIZE\n",
      "                        Batch size for training\n",
      "  --epochs EPOCHS       Number of training epochs\n",
      "  --lr LR               Learning rate\n",
      "  --dataset {CIFAR-10,CIFAR-100}\n",
      "                        Select the dataset to use (CIFAR-10 or CIFAR-100)\n"
     ]
    }
   ],
   "source": [
    "# Let's see what we can do with train.py\n",
    "execute(\"train.py\", {\"help\": None})"
   ]
  },
  {
   "cell_type": "markdown",
   "metadata": {},
   "source": [
    "# Train and test CNN on CIFAR-10\n",
    "\n"
   ]
  },
  {
   "cell_type": "markdown",
   "metadata": {},
   "source": [
    "## Parameters"
   ]
  },
  {
   "cell_type": "code",
   "execution_count": 7,
   "metadata": {},
   "outputs": [],
   "source": [
    "# parameters\n",
    "batchsize = 32\n",
    "seed      = 42\n",
    "lr        = 3e-4\n",
    "epochs    = 30\n",
    "dataset   = \"CIFAR-10\""
   ]
  },
  {
   "cell_type": "markdown",
   "metadata": {},
   "source": [
    "## Train"
   ]
  },
  {
   "cell_type": "code",
   "execution_count": 8,
   "metadata": {},
   "outputs": [
    {
     "name": "stdout",
     "output_type": "stream",
     "text": [
      "Executing script: ./mlx-cifar-10-cnn/train.py\n",
      "['python', './mlx-cifar-10-cnn/train.py', '--dataset', 'CIFAR-10', '--batchsize', '32', '--seed', '42', '--lr', '0.0003', '--epochs', '30']\n",
      "Options: \n",
      "  Device: GPU\n",
      "  Seed: 42\n",
      "  Batch size: 32\n",
      "  Number of epochs: 30\n",
      "  Learning rate: 0.0003\n",
      "  Dataset: CIFAR-10\n",
      "Number of trainable params: 0.5506 M\n",
      "Starting training ...\n",
      "Epoch    0: Loss 1.70032 | Train accuracy  0.495 | Test accuracy  0.497 | Throughput    1015.97 images/second |  Time   51.035 (s)\n",
      "Epoch    1: Loss 1.33132 | Train accuracy  0.580 | Test accuracy  0.581 | Throughput    1098.47 images/second |  Time   46.751 (s)\n",
      "Epoch    2: Loss 1.22415 | Batch   560 | Train accuracy  0.563 | Throughput    1137.34 images/second\r"
     ]
    },
    {
     "ename": "KeyboardInterrupt",
     "evalue": "",
     "output_type": "error",
     "traceback": [
      "\u001b[0;31m---------------------------------------------------------------------------\u001b[0m",
      "\u001b[0;31mKeyboardInterrupt\u001b[0m                         Traceback (most recent call last)",
      "Cell \u001b[0;32mIn[8], line 10\u001b[0m\n\u001b[1;32m      1\u001b[0m params \u001b[38;5;241m=\u001b[39m {\n\u001b[1;32m      2\u001b[0m     \u001b[38;5;124m\"\u001b[39m\u001b[38;5;124mdataset\u001b[39m\u001b[38;5;124m\"\u001b[39m: dataset,           \u001b[38;5;66;03m# dataset name\u001b[39;00m\n\u001b[1;32m      3\u001b[0m     \u001b[38;5;124m\"\u001b[39m\u001b[38;5;124mbatchsize\u001b[39m\u001b[38;5;124m\"\u001b[39m: batchsize,       \u001b[38;5;66;03m# batch size\u001b[39;00m\n\u001b[0;32m   (...)\u001b[0m\n\u001b[1;32m      6\u001b[0m     \u001b[38;5;124m\"\u001b[39m\u001b[38;5;124mepochs\u001b[39m\u001b[38;5;124m\"\u001b[39m: epochs              \u001b[38;5;66;03m# number of epochs\u001b[39;00m\n\u001b[1;32m      7\u001b[0m }\n\u001b[1;32m      9\u001b[0m \u001b[38;5;66;03m# Execute 'train.py' with parameters\u001b[39;00m\n\u001b[0;32m---> 10\u001b[0m \u001b[43mexecute\u001b[49m\u001b[43m(\u001b[49m\u001b[38;5;124;43m\"\u001b[39;49m\u001b[38;5;124;43mtrain.py\u001b[39;49m\u001b[38;5;124;43m\"\u001b[39;49m\u001b[43m,\u001b[49m\u001b[43m \u001b[49m\u001b[43mparams\u001b[49m\u001b[38;5;241;43m=\u001b[39;49m\u001b[43mparams\u001b[49m\u001b[43m)\u001b[49m\n",
      "Cell \u001b[0;32mIn[5], line 5\u001b[0m, in \u001b[0;36mexecute\u001b[0;34m(script_name, params)\u001b[0m\n\u001b[1;32m      3\u001b[0m     executeCaptureColab(script_name, params)\n\u001b[1;32m      4\u001b[0m \u001b[38;5;28;01melse\u001b[39;00m:\n\u001b[0;32m----> 5\u001b[0m     \u001b[43mexecuteCapture\u001b[49m\u001b[43m(\u001b[49m\u001b[43mscript_name\u001b[49m\u001b[43m,\u001b[49m\u001b[43m \u001b[49m\u001b[43mparams\u001b[49m\u001b[43m)\u001b[49m\n",
      "Cell \u001b[0;32mIn[5], line 19\u001b[0m, in \u001b[0;36mexecuteCapture\u001b[0;34m(script_name, params)\u001b[0m\n\u001b[1;32m     17\u001b[0m             command\u001b[38;5;241m.\u001b[39mappend(\u001b[38;5;28mstr\u001b[39m(value))\n\u001b[1;32m     18\u001b[0m     \u001b[38;5;28mprint\u001b[39m(command)\n\u001b[0;32m---> 19\u001b[0m     \u001b[43msubprocess\u001b[49m\u001b[38;5;241;43m.\u001b[39;49m\u001b[43mrun\u001b[49m\u001b[43m(\u001b[49m\u001b[43mcommand\u001b[49m\u001b[43m)\u001b[49m\n\u001b[1;32m     20\u001b[0m \u001b[38;5;28;01melse\u001b[39;00m:\n\u001b[1;32m     21\u001b[0m     \u001b[38;5;28mprint\u001b[39m(\u001b[38;5;124mf\u001b[39m\u001b[38;5;124m\"\u001b[39m\u001b[38;5;124mScript not found: \u001b[39m\u001b[38;5;132;01m{\u001b[39;00mscript_path\u001b[38;5;132;01m}\u001b[39;00m\u001b[38;5;124m\"\u001b[39m)\n",
      "File \u001b[0;32m~/Development/miniforge3/envs/mlx-m1-2023-12/lib/python3.11/subprocess.py:550\u001b[0m, in \u001b[0;36mrun\u001b[0;34m(input, capture_output, timeout, check, *popenargs, **kwargs)\u001b[0m\n\u001b[1;32m    548\u001b[0m \u001b[38;5;28;01mwith\u001b[39;00m Popen(\u001b[38;5;241m*\u001b[39mpopenargs, \u001b[38;5;241m*\u001b[39m\u001b[38;5;241m*\u001b[39mkwargs) \u001b[38;5;28;01mas\u001b[39;00m process:\n\u001b[1;32m    549\u001b[0m     \u001b[38;5;28;01mtry\u001b[39;00m:\n\u001b[0;32m--> 550\u001b[0m         stdout, stderr \u001b[38;5;241m=\u001b[39m \u001b[43mprocess\u001b[49m\u001b[38;5;241;43m.\u001b[39;49m\u001b[43mcommunicate\u001b[49m\u001b[43m(\u001b[49m\u001b[38;5;28;43minput\u001b[39;49m\u001b[43m,\u001b[49m\u001b[43m \u001b[49m\u001b[43mtimeout\u001b[49m\u001b[38;5;241;43m=\u001b[39;49m\u001b[43mtimeout\u001b[49m\u001b[43m)\u001b[49m\n\u001b[1;32m    551\u001b[0m     \u001b[38;5;28;01mexcept\u001b[39;00m TimeoutExpired \u001b[38;5;28;01mas\u001b[39;00m exc:\n\u001b[1;32m    552\u001b[0m         process\u001b[38;5;241m.\u001b[39mkill()\n",
      "File \u001b[0;32m~/Development/miniforge3/envs/mlx-m1-2023-12/lib/python3.11/subprocess.py:1201\u001b[0m, in \u001b[0;36mPopen.communicate\u001b[0;34m(self, input, timeout)\u001b[0m\n\u001b[1;32m   1199\u001b[0m         stderr \u001b[38;5;241m=\u001b[39m \u001b[38;5;28mself\u001b[39m\u001b[38;5;241m.\u001b[39mstderr\u001b[38;5;241m.\u001b[39mread()\n\u001b[1;32m   1200\u001b[0m         \u001b[38;5;28mself\u001b[39m\u001b[38;5;241m.\u001b[39mstderr\u001b[38;5;241m.\u001b[39mclose()\n\u001b[0;32m-> 1201\u001b[0m     \u001b[38;5;28;43mself\u001b[39;49m\u001b[38;5;241;43m.\u001b[39;49m\u001b[43mwait\u001b[49m\u001b[43m(\u001b[49m\u001b[43m)\u001b[49m\n\u001b[1;32m   1202\u001b[0m \u001b[38;5;28;01melse\u001b[39;00m:\n\u001b[1;32m   1203\u001b[0m     \u001b[38;5;28;01mif\u001b[39;00m timeout \u001b[38;5;129;01mis\u001b[39;00m \u001b[38;5;129;01mnot\u001b[39;00m \u001b[38;5;28;01mNone\u001b[39;00m:\n",
      "File \u001b[0;32m~/Development/miniforge3/envs/mlx-m1-2023-12/lib/python3.11/subprocess.py:1264\u001b[0m, in \u001b[0;36mPopen.wait\u001b[0;34m(self, timeout)\u001b[0m\n\u001b[1;32m   1262\u001b[0m     endtime \u001b[38;5;241m=\u001b[39m _time() \u001b[38;5;241m+\u001b[39m timeout\n\u001b[1;32m   1263\u001b[0m \u001b[38;5;28;01mtry\u001b[39;00m:\n\u001b[0;32m-> 1264\u001b[0m     \u001b[38;5;28;01mreturn\u001b[39;00m \u001b[38;5;28;43mself\u001b[39;49m\u001b[38;5;241;43m.\u001b[39;49m\u001b[43m_wait\u001b[49m\u001b[43m(\u001b[49m\u001b[43mtimeout\u001b[49m\u001b[38;5;241;43m=\u001b[39;49m\u001b[43mtimeout\u001b[49m\u001b[43m)\u001b[49m\n\u001b[1;32m   1265\u001b[0m \u001b[38;5;28;01mexcept\u001b[39;00m \u001b[38;5;167;01mKeyboardInterrupt\u001b[39;00m:\n\u001b[1;32m   1266\u001b[0m     \u001b[38;5;66;03m# https://bugs.python.org/issue25942\u001b[39;00m\n\u001b[1;32m   1267\u001b[0m     \u001b[38;5;66;03m# The first keyboard interrupt waits briefly for the child to\u001b[39;00m\n\u001b[1;32m   1268\u001b[0m     \u001b[38;5;66;03m# exit under the common assumption that it also received the ^C\u001b[39;00m\n\u001b[1;32m   1269\u001b[0m     \u001b[38;5;66;03m# generated SIGINT and will exit rapidly.\u001b[39;00m\n\u001b[1;32m   1270\u001b[0m     \u001b[38;5;28;01mif\u001b[39;00m timeout \u001b[38;5;129;01mis\u001b[39;00m \u001b[38;5;129;01mnot\u001b[39;00m \u001b[38;5;28;01mNone\u001b[39;00m:\n",
      "File \u001b[0;32m~/Development/miniforge3/envs/mlx-m1-2023-12/lib/python3.11/subprocess.py:2046\u001b[0m, in \u001b[0;36mPopen._wait\u001b[0;34m(self, timeout)\u001b[0m\n\u001b[1;32m   2044\u001b[0m \u001b[38;5;28;01mif\u001b[39;00m \u001b[38;5;28mself\u001b[39m\u001b[38;5;241m.\u001b[39mreturncode \u001b[38;5;129;01mis\u001b[39;00m \u001b[38;5;129;01mnot\u001b[39;00m \u001b[38;5;28;01mNone\u001b[39;00m:\n\u001b[1;32m   2045\u001b[0m     \u001b[38;5;28;01mbreak\u001b[39;00m  \u001b[38;5;66;03m# Another thread waited.\u001b[39;00m\n\u001b[0;32m-> 2046\u001b[0m (pid, sts) \u001b[38;5;241m=\u001b[39m \u001b[38;5;28;43mself\u001b[39;49m\u001b[38;5;241;43m.\u001b[39;49m\u001b[43m_try_wait\u001b[49m\u001b[43m(\u001b[49m\u001b[38;5;241;43m0\u001b[39;49m\u001b[43m)\u001b[49m\n\u001b[1;32m   2047\u001b[0m \u001b[38;5;66;03m# Check the pid and loop as waitpid has been known to\u001b[39;00m\n\u001b[1;32m   2048\u001b[0m \u001b[38;5;66;03m# return 0 even without WNOHANG in odd situations.\u001b[39;00m\n\u001b[1;32m   2049\u001b[0m \u001b[38;5;66;03m# http://bugs.python.org/issue14396.\u001b[39;00m\n\u001b[1;32m   2050\u001b[0m \u001b[38;5;28;01mif\u001b[39;00m pid \u001b[38;5;241m==\u001b[39m \u001b[38;5;28mself\u001b[39m\u001b[38;5;241m.\u001b[39mpid:\n",
      "File \u001b[0;32m~/Development/miniforge3/envs/mlx-m1-2023-12/lib/python3.11/subprocess.py:2004\u001b[0m, in \u001b[0;36mPopen._try_wait\u001b[0;34m(self, wait_flags)\u001b[0m\n\u001b[1;32m   2002\u001b[0m \u001b[38;5;250m\u001b[39m\u001b[38;5;124;03m\"\"\"All callers to this function MUST hold self._waitpid_lock.\"\"\"\u001b[39;00m\n\u001b[1;32m   2003\u001b[0m \u001b[38;5;28;01mtry\u001b[39;00m:\n\u001b[0;32m-> 2004\u001b[0m     (pid, sts) \u001b[38;5;241m=\u001b[39m \u001b[43mos\u001b[49m\u001b[38;5;241;43m.\u001b[39;49m\u001b[43mwaitpid\u001b[49m\u001b[43m(\u001b[49m\u001b[38;5;28;43mself\u001b[39;49m\u001b[38;5;241;43m.\u001b[39;49m\u001b[43mpid\u001b[49m\u001b[43m,\u001b[49m\u001b[43m \u001b[49m\u001b[43mwait_flags\u001b[49m\u001b[43m)\u001b[49m\n\u001b[1;32m   2005\u001b[0m \u001b[38;5;28;01mexcept\u001b[39;00m \u001b[38;5;167;01mChildProcessError\u001b[39;00m:\n\u001b[1;32m   2006\u001b[0m     \u001b[38;5;66;03m# This happens if SIGCLD is set to be ignored or waiting\u001b[39;00m\n\u001b[1;32m   2007\u001b[0m     \u001b[38;5;66;03m# for child processes has otherwise been disabled for our\u001b[39;00m\n\u001b[1;32m   2008\u001b[0m     \u001b[38;5;66;03m# process.  This child is dead, we can't get the status.\u001b[39;00m\n\u001b[1;32m   2009\u001b[0m     pid \u001b[38;5;241m=\u001b[39m \u001b[38;5;28mself\u001b[39m\u001b[38;5;241m.\u001b[39mpid\n",
      "\u001b[0;31mKeyboardInterrupt\u001b[0m: "
     ]
    }
   ],
   "source": [
    "params = {\n",
    "    \"dataset\": dataset,           # dataset name\n",
    "    \"batchsize\": batchsize,       # batch size\n",
    "    \"seed\": seed,                 # random seed\n",
    "    \"lr\": lr,                     # learning rate\n",
    "    \"epochs\": epochs              # number of epochs\n",
    "}\n",
    "\n",
    "# Execute 'train.py' with parameters\n",
    "execute(\"train.py\", params=params)"
   ]
  },
  {
   "cell_type": "markdown",
   "metadata": {},
   "source": [
    "## Test "
   ]
  },
  {
   "cell_type": "code",
   "execution_count": null,
   "metadata": {},
   "outputs": [],
   "source": [
    "# parameters\n",
    "params = {\n",
    "    \"model\": f\"models/model_{dataset}_{epochs-1:03d}.npz\" # model name    \n",
    "}\n",
    "\n",
    "# Execute 'train.py' with parameters\n",
    "execute(\"test.py\", params=params)"
   ]
  },
  {
   "cell_type": "markdown",
   "metadata": {},
   "source": [
    "# Train and test CNN on CIFAR-100"
   ]
  },
  {
   "cell_type": "markdown",
   "metadata": {},
   "source": [
    "## Parameters"
   ]
  },
  {
   "cell_type": "code",
   "execution_count": null,
   "metadata": {},
   "outputs": [],
   "source": [
    "# parameters\n",
    "batchsize = 32\n",
    "seed      = 42\n",
    "lr        = 3e-4\n",
    "epochs    = 30\n",
    "dataset   = \"CIFAR-100\""
   ]
  },
  {
   "cell_type": "markdown",
   "metadata": {},
   "source": [
    "## Train"
   ]
  },
  {
   "cell_type": "code",
   "execution_count": null,
   "metadata": {},
   "outputs": [],
   "source": [
    "params = {\n",
    "    \"dataset\": dataset,           # dataset name\n",
    "    \"batchsize\": batchsize,       # batch size\n",
    "    \"seed\": seed,                 # random seed\n",
    "    \"lr\": lr,                     # learning rate\n",
    "    \"epochs\": epochs              # number of epochs\n",
    "}\n",
    "\n",
    "# Execute 'train.py' with parameters\n",
    "execute(\"train.py\", params=params)"
   ]
  },
  {
   "cell_type": "markdown",
   "metadata": {},
   "source": [
    "## Test"
   ]
  },
  {
   "cell_type": "code",
   "execution_count": null,
   "metadata": {},
   "outputs": [],
   "source": [
    "# parameters\n",
    "params = {\n",
    "    \"dataset\": dataset,           # dataset name\n",
    "    \"model\": f\"models/model_{dataset}_{epochs-1:03d}.npz\" # model name    \n",
    "}\n",
    "\n",
    "# Execute 'train.py' with parameters\n",
    "execute(\"test.py\", params=params)"
   ]
  }
 ],
 "metadata": {
  "kernelspec": {
   "display_name": "mlx-m1-2023-12",
   "language": "python",
   "name": "python3"
  },
  "language_info": {
   "codemirror_mode": {
    "name": "ipython",
    "version": 3
   },
   "file_extension": ".py",
   "mimetype": "text/x-python",
   "name": "python",
   "nbconvert_exporter": "python",
   "pygments_lexer": "ipython3",
   "version": "3.11.6"
  }
 },
 "nbformat": 4,
 "nbformat_minor": 2
}
