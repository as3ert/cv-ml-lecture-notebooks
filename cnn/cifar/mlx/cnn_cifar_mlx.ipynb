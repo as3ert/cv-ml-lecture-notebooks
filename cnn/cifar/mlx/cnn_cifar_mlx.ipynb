{
 "cells": [
  {
   "cell_type": "markdown",
   "metadata": {},
   "source": [
    "# Convolutional neural networks (CNN) for CIFAR-10/100 using MLX\n",
    "\n",
    "Markus Enzweiler, markus.enzweiler@hs-esslingen.de\n",
    "\n",
    "This is a demo used in a Computer Vision & Machine Learning lecture. Feel free to use and contribute."
   ]
  },
  {
   "cell_type": "markdown",
   "metadata": {},
   "source": [
    "We build and train a CNN for CIFAR-10 / CIFAR-100 image classification, see https://www.cs.toronto.edu/~kriz/cifar.html. We use the Python code from https://github.com/menzHSE/mlx-cifar-10-cnn.git and execute it via this notebook. "
   ]
  },
  {
   "cell_type": "markdown",
   "metadata": {},
   "source": [
    "\n",
    "**Note: This requires a machine with an Apple SoC, e.g. M1/M2/M3 etc.**\n",
    "\n",
    "See: https://github.com/ml-explore/mlx"
   ]
  },
  {
   "cell_type": "markdown",
   "metadata": {},
   "source": [
    "## Setup\n",
    "\n",
    "Adapt `packagePath` to point to the directory containing this notebeook."
   ]
  },
  {
   "cell_type": "code",
   "execution_count": 1,
   "metadata": {},
   "outputs": [],
   "source": [
    "# Imports\n",
    "import sys\n",
    "import os\n",
    "import subprocess"
   ]
  },
  {
   "cell_type": "code",
   "execution_count": 2,
   "metadata": {},
   "outputs": [
    {
     "name": "stdout",
     "output_type": "stream",
     "text": [
      "Package path: ./\n"
     ]
    }
   ],
   "source": [
    "# Package Path\n",
    "package_path = \"./\" # local\n",
    "print(f\"Package path: {package_path}\")"
   ]
  },
  {
   "cell_type": "code",
   "execution_count": 3,
   "metadata": {},
   "outputs": [
    {
     "name": "stdout",
     "output_type": "stream",
     "text": [
      "Repository exists. Resetting to HEAD...\n",
      "HEAD is now at ddef38e param update\n"
     ]
    }
   ],
   "source": [
    "# Clone git repository\n",
    "\n",
    "# Absolute path of the repository directory\n",
    "repo_dir = os.path.join(package_path, \"mlx-cifar-10-cnn\")\n",
    "repo_url = \"https://github.com/menzHSE/mlx-cifar-10-cnn.git\"\n",
    "\n",
    "# Store the original working directory\n",
    "original_cwd = os.getcwd()\n",
    "\n",
    "# Check if the directory already exists using the absolute path\n",
    "if os.path.exists(os.path.join(original_cwd, repo_dir)):\n",
    "    print(\"Repository exists. Resetting to HEAD...\")\n",
    "    # Navigate into the repository directory\n",
    "    os.chdir(repo_dir)\n",
    "    # Fetch the latest changes from the remote\n",
    "    subprocess.run([\"git\", \"fetch\", \"origin\"])\n",
    "    # Reset the local branch to the latest commit from the remote\n",
    "    subprocess.run([\"git\", \"reset\", \"--hard\", \"origin/HEAD\"])\n",
    "    # Change back to the original working directory\n",
    "    os.chdir(original_cwd)\n",
    "else:\n",
    "    print(\"Cloning repository...\")\n",
    "    # Clone the repository if it doesn't exist\n",
    "    subprocess.run([\"git\", \"clone\", repo_url, repo_dir])\n"
   ]
  },
  {
   "cell_type": "code",
   "execution_count": 4,
   "metadata": {},
   "outputs": [
    {
     "name": "stdout",
     "output_type": "stream",
     "text": [
      "Requirement already satisfied: mlx in /Users/menzweil/Development/miniforge3/envs/mlx-m1-2023-12/lib/python3.11/site-packages (from -r ./mlx-cifar-10-cnn/requirements.txt (line 1)) (0.0.6)\n",
      "Requirement already satisfied: mlx-data in /Users/menzweil/Development/miniforge3/envs/mlx-m1-2023-12/lib/python3.11/site-packages (from -r ./mlx-cifar-10-cnn/requirements.txt (line 2)) (0.0.1.dev20231220+074f98e)\n"
     ]
    }
   ],
   "source": [
    "# Install requirements in the current Jupyter kernel\n",
    "req_file = os.path.join(repo_dir, \"requirements.txt\")\n",
    "if os.path.exists(req_file):\n",
    "    !{sys.executable} -m pip install -r {req_file}\n",
    "else:\n",
    "    print(f\"Requirements file not found: {req_file}\")"
   ]
  },
  {
   "cell_type": "markdown",
   "metadata": {},
   "source": [
    "## Functions to interface with the code in the repository"
   ]
  },
  {
   "cell_type": "code",
   "execution_count": 5,
   "metadata": {},
   "outputs": [],
   "source": [
    "def execute(script_name, params=None):\n",
    "    script_path = os.path.join(repo_dir, script_name)\n",
    "    if os.path.exists(script_path):\n",
    "        print(f\"Executing script: {script_path}\")\n",
    "        # Create the command list starting with Python and the script path\n",
    "        command = [\"python\", script_path]\n",
    "        # Add additional arguments from the params dictionary\n",
    "        if params:\n",
    "            for key, value in params.items():\n",
    "                command.append(f\"--{key}\")\n",
    "                command.append(str(value))\n",
    "        print(command)\n",
    "        subprocess.run(command)\n",
    "    else:\n",
    "        print(f\"Script not found: {script_path}\")"
   ]
  },
  {
   "cell_type": "code",
   "execution_count": 6,
   "metadata": {},
   "outputs": [
    {
     "name": "stdout",
     "output_type": "stream",
     "text": [
      "Executing script: ./mlx-cifar-10-cnn/train.py\n",
      "['python', './mlx-cifar-10-cnn/train.py', '--help', 'None']\n",
      "usage: Train a simple CNN on CIFAR-10 / CIFAR_100 with mlx.\n",
      "       [-h] [--cpu] [--seed SEED] [--batchsize BATCHSIZE] [--epochs EPOCHS]\n",
      "       [--lr LR] [--dataset {CIFAR-10,CIFAR-100}]\n",
      "\n",
      "options:\n",
      "  -h, --help            show this help message and exit\n",
      "  --cpu                 Use CPU instead of Metal GPU acceleration\n",
      "  --seed SEED           Random seed\n",
      "  --batchsize BATCHSIZE\n",
      "                        Batch size for training\n",
      "  --epochs EPOCHS       Number of training epochs\n",
      "  --lr LR               Learning rate\n",
      "  --dataset {CIFAR-10,CIFAR-100}\n",
      "                        Select the dataset to use (CIFAR-10 or CIFAR-100)\n"
     ]
    }
   ],
   "source": [
    "# Let's see what we can do with train.py\n",
    "execute(\"train.py\", {\"help\": None})"
   ]
  },
  {
   "cell_type": "markdown",
   "metadata": {},
   "source": [
    "# Train and test CNN on CIFAR-10\n",
    "\n"
   ]
  },
  {
   "cell_type": "markdown",
   "metadata": {},
   "source": [
    "## Parameters"
   ]
  },
  {
   "cell_type": "code",
   "execution_count": 7,
   "metadata": {},
   "outputs": [],
   "source": [
    "# parameters\n",
    "batchsize = 32\n",
    "seed      = 42\n",
    "lr        = 3e-4\n",
    "epochs    = 30\n",
    "dataset   = \"CIFAR-10\""
   ]
  },
  {
   "cell_type": "markdown",
   "metadata": {},
   "source": [
    "## Train"
   ]
  },
  {
   "cell_type": "code",
   "execution_count": 8,
   "metadata": {},
   "outputs": [
    {
     "name": "stdout",
     "output_type": "stream",
     "text": [
      "Executing script: ./mlx-cifar-10-cnn/train.py\n",
      "['python', './mlx-cifar-10-cnn/train.py', '--dataset', 'CIFAR-10', '--batchsize', '32', '--seed', '42', '--lr', '0.0003', '--epochs', '30']\n",
      "Options: \n",
      "  Device: GPU\n",
      "  Seed: 42\n",
      "  Batch size: 32\n",
      "  Number of epochs: 30\n",
      "  Learning rate: 0.0003\n",
      "  Dataset: CIFAR-10\n",
      "Number of trainable params: 0.3570 M\n",
      "Starting training ...\n",
      "Epoch    0: Loss 1.60948, Train accuracy 0.510, Test accuracy 0.502, Throughput 2269.16 images/second,  Time 22.715 (s)\n",
      "Epoch    1: Loss 1.30356, Train accuracy 0.555, Test accuracy 0.550, Throughput 2259.71 images/second,  Time 22.803 (s)\n",
      "Epoch    2: Loss 1.19556, Train accuracy 0.594, Test accuracy 0.580, Throughput 2164.64 images/second,  Time 23.871 (s)\n",
      "Epoch    3: Loss 1.12674, Train accuracy 0.609, Test accuracy 0.599, Throughput 2165.85 images/second,  Time 23.821 (s)\n",
      "Epoch    4: Loss 1.07251, Train accuracy 0.632, Test accuracy 0.613, Throughput 2176.10 images/second,  Time 23.722 (s)\n",
      "Epoch    5: Loss 1.02872, Train accuracy 0.637, Test accuracy 0.618, Throughput 2169.97 images/second,  Time 23.781 (s)\n",
      "Epoch    6: Loss 0.98823, Train accuracy 0.661, Test accuracy 0.637, Throughput 2200.24 images/second,  Time 23.457 (s)\n",
      "Epoch    7: Loss 0.96594, Train accuracy 0.668, Test accuracy 0.638, Throughput 2182.29 images/second,  Time 23.660 (s)\n",
      "Epoch    8: Loss 0.93376, Train accuracy 0.674, Test accuracy 0.643, Throughput 2167.52 images/second,  Time 23.806 (s)\n",
      "Epoch    9: Loss 0.91328, Train accuracy 0.683, Test accuracy 0.658, Throughput 2159.61 images/second,  Time 23.902 (s)\n",
      "Epoch   10: Loss 0.89685, Train accuracy 0.692, Test accuracy 0.672, Throughput 2180.77 images/second,  Time 23.673 (s)\n",
      "Epoch   11: Loss 0.87807, Train accuracy 0.691, Test accuracy 0.662, Throughput 2169.12 images/second,  Time 23.791 (s)\n",
      "Epoch   12: Loss 0.85868, Train accuracy 0.706, Test accuracy 0.673, Throughput 2219.05 images/second,  Time 23.264 (s)\n",
      "Epoch   13: Loss 0.83948, Train accuracy 0.710, Test accuracy 0.681, Throughput 2261.53 images/second,  Time 22.885 (s)\n",
      "Epoch   14: Loss 0.82700, Train accuracy 0.720, Test accuracy 0.686, Throughput 2143.99 images/second,  Time 24.072 (s)\n",
      "Epoch   15: Loss 0.81348, Train accuracy 0.721, Test accuracy 0.688, Throughput 2163.65 images/second,  Time 23.862 (s)\n",
      "Epoch   16: Loss 0.79762, Train accuracy 0.719, Test accuracy 0.681, Throughput 2182.59 images/second,  Time 23.655 (s)\n",
      "Epoch   17: Loss 0.78987, Train accuracy 0.714, Test accuracy 0.672, Throughput 2167.10 images/second,  Time 23.821 (s)\n",
      "Epoch   18: Loss 0.77032, Train accuracy 0.739, Test accuracy 0.697, Throughput 2186.93 images/second,  Time 23.603 (s)\n",
      "Epoch   19: Loss 0.76345, Train accuracy 0.737, Test accuracy 0.695, Throughput 2147.54 images/second,  Time 24.031 (s)\n",
      "Epoch   20: Loss 0.75090, Train accuracy 0.743, Test accuracy 0.702, Throughput 2168.06 images/second,  Time 23.816 (s)\n",
      "Epoch   21: Loss 0.74772, Train accuracy 0.741, Test accuracy 0.689, Throughput 2158.26 images/second,  Time 23.916 (s)\n",
      "Epoch   22: Loss 0.73273, Train accuracy 0.748, Test accuracy 0.700, Throughput 2158.10 images/second,  Time 23.917 (s)\n",
      "Epoch   23: Loss 0.72646, Train accuracy 0.750, Test accuracy 0.704, Throughput 2155.51 images/second,  Time 23.947 (s)\n",
      "Epoch   24: Loss 0.71898, Train accuracy 0.751, Test accuracy 0.705, Throughput 2149.18 images/second,  Time 24.021 (s)\n",
      "Epoch   25: Loss 0.71026, Train accuracy 0.756, Test accuracy 0.711, Throughput 2154.19 images/second,  Time 23.961 (s)\n",
      "Epoch   26: Loss 0.70102, Train accuracy 0.760, Test accuracy 0.713, Throughput 2148.93 images/second,  Time 24.012 (s)\n",
      "Epoch   27: Loss 0.69447, Train accuracy 0.759, Test accuracy 0.706, Throughput 2156.39 images/second,  Time 23.931 (s)\n",
      "Epoch   28: Loss 0.68724, Train accuracy 0.766, Test accuracy 0.717, Throughput 2173.34 images/second,  Time 23.759 (s)\n",
      "Epoch   29: Loss 0.68287, Train accuracy 0.763, Test accuracy 0.713, Throughput 2160.44 images/second,  Time 23.896 (s)\n"
     ]
    }
   ],
   "source": [
    "params = {\n",
    "    \"dataset\": dataset,           # dataset name\n",
    "    \"batchsize\": batchsize,       # batch size\n",
    "    \"seed\": seed,                 # random seed\n",
    "    \"lr\": lr,                     # learning rate\n",
    "    \"epochs\": epochs              # number of epochs\n",
    "}\n",
    "\n",
    "# Execute 'train.py' with parameters\n",
    "execute(\"train.py\", params=params)"
   ]
  },
  {
   "cell_type": "markdown",
   "metadata": {},
   "source": [
    "## Test "
   ]
  },
  {
   "cell_type": "code",
   "execution_count": 9,
   "metadata": {},
   "outputs": [
    {
     "name": "stdout",
     "output_type": "stream",
     "text": [
      "Executing script: ./mlx-cifar-10-cnn/test.py\n",
      "['python', './mlx-cifar-10-cnn/test.py', '--model', 'model_CIFAR-10_029.npz']\n",
      "Loaded model for CIFAR-10 from model_CIFAR-10_029.npz\n",
      "Starting testing ...\n",
      "....\n",
      "Test accuracy: 0.7132588028907776\n"
     ]
    }
   ],
   "source": [
    "# parameters\n",
    "params = {\n",
    "    \"model\": f\"model_{dataset}_{epochs-1:03d}.npz\" # model name    \n",
    "}\n",
    "\n",
    "# Execute 'train.py' with parameters\n",
    "execute(\"test.py\", params=params)"
   ]
  },
  {
   "cell_type": "markdown",
   "metadata": {},
   "source": [
    "# Train and test CNN on CIFAR-100"
   ]
  },
  {
   "cell_type": "markdown",
   "metadata": {},
   "source": [
    "## Parameters"
   ]
  },
  {
   "cell_type": "code",
   "execution_count": 10,
   "metadata": {},
   "outputs": [],
   "source": [
    "# parameters\n",
    "batchsize = 32\n",
    "seed      = 42\n",
    "lr        = 3e-4\n",
    "epochs    = 30\n",
    "dataset   = \"CIFAR-100\""
   ]
  },
  {
   "cell_type": "markdown",
   "metadata": {},
   "source": [
    "## Train"
   ]
  },
  {
   "cell_type": "code",
   "execution_count": 11,
   "metadata": {},
   "outputs": [
    {
     "name": "stdout",
     "output_type": "stream",
     "text": [
      "Executing script: ./mlx-cifar-10-cnn/train.py\n",
      "['python', './mlx-cifar-10-cnn/train.py', '--dataset', 'CIFAR-100', '--batchsize', '32', '--seed', '42', '--lr', '0.0003', '--epochs', '30']\n",
      "Options: \n",
      "  Device: GPU\n",
      "  Seed: 42\n",
      "  Batch size: 32\n",
      "  Number of epochs: 30\n",
      "  Learning rate: 0.0003\n",
      "  Dataset: CIFAR-100\n",
      "Number of trainable params: 0.3686 M\n",
      "Starting training ...\n",
      "Epoch    0: Loss 4.12213, Train accuracy 0.120, Test accuracy 0.125, Throughput 2212.57 images/second,  Time 23.323 (s)\n",
      "Epoch    1: Loss 3.51327, Train accuracy 0.190, Test accuracy 0.193, Throughput 2237.82 images/second,  Time 23.075 (s)\n",
      "Epoch    2: Loss 3.24639, Train accuracy 0.224, Test accuracy 0.221, Throughput 2219.06 images/second,  Time 23.253 (s)\n",
      "Epoch    3: Loss 3.07656, Train accuracy 0.255, Test accuracy 0.239, Throughput 2209.94 images/second,  Time 23.368 (s)\n",
      "Epoch    4: Loss 2.96304, Train accuracy 0.275, Test accuracy 0.261, Throughput 2262.18 images/second,  Time 22.810 (s)\n",
      "Epoch    5: Loss 2.86804, Train accuracy 0.286, Test accuracy 0.274, Throughput 2246.55 images/second,  Time 22.959 (s)\n",
      "Epoch    6: Loss 2.78645, Train accuracy 0.303, Test accuracy 0.284, Throughput 2233.78 images/second,  Time 23.103 (s)\n",
      "Epoch    7: Loss 2.71395, Train accuracy 0.315, Test accuracy 0.290, Throughput 2261.90 images/second,  Time 22.798 (s)\n",
      "Epoch    8: Loss 2.65478, Train accuracy 0.323, Test accuracy 0.300, Throughput 2253.04 images/second,  Time 22.882 (s)\n",
      "Epoch    9: Loss 2.60908, Train accuracy 0.334, Test accuracy 0.312, Throughput 2238.55 images/second,  Time 23.041 (s)\n",
      "Epoch   10: Loss 2.55996, Train accuracy 0.342, Test accuracy 0.314, Throughput 2271.09 images/second,  Time 22.719 (s)\n",
      "Epoch   11: Loss 2.51742, Train accuracy 0.355, Test accuracy 0.325, Throughput 2233.49 images/second,  Time 23.098 (s)\n",
      "Epoch   12: Loss 2.48530, Train accuracy 0.361, Test accuracy 0.338, Throughput 2268.19 images/second,  Time 22.729 (s)\n",
      "Epoch   13: Loss 2.44939, Train accuracy 0.362, Test accuracy 0.334, Throughput 2251.14 images/second,  Time 22.898 (s)\n",
      "Epoch   14: Loss 2.40950, Train accuracy 0.369, Test accuracy 0.342, Throughput 2253.35 images/second,  Time 22.883 (s)\n",
      "Epoch   15: Loss 2.39437, Train accuracy 0.364, Test accuracy 0.336, Throughput 2251.33 images/second,  Time 22.907 (s)\n",
      "Epoch   16: Loss 2.36632, Train accuracy 0.383, Test accuracy 0.348, Throughput 2251.08 images/second,  Time 22.924 (s)\n",
      "Epoch   17: Loss 2.34242, Train accuracy 0.392, Test accuracy 0.349, Throughput 2252.11 images/second,  Time 22.889 (s)\n",
      "Epoch   18: Loss 2.30874, Train accuracy 0.395, Test accuracy 0.354, Throughput 2251.29 images/second,  Time 22.907 (s)\n",
      "Epoch   19: Loss 2.29469, Train accuracy 0.397, Test accuracy 0.353, Throughput 2264.19 images/second,  Time 22.773 (s)\n",
      "Epoch   20: Loss 2.27040, Train accuracy 0.405, Test accuracy 0.366, Throughput 2245.21 images/second,  Time 22.968 (s)\n",
      "Epoch   21: Loss 2.24984, Train accuracy 0.412, Test accuracy 0.364, Throughput 2247.64 images/second,  Time 22.946 (s)\n",
      "Epoch   22: Loss 2.22962, Train accuracy 0.414, Test accuracy 0.372, Throughput 2221.13 images/second,  Time 23.224 (s)\n",
      "Epoch   23: Loss 2.21448, Train accuracy 0.418, Test accuracy 0.370, Throughput 2257.24 images/second,  Time 22.836 (s)\n",
      "Epoch   24: Loss 2.20465, Train accuracy 0.413, Test accuracy 0.367, Throughput 2216.48 images/second,  Time 23.282 (s)\n",
      "Epoch   25: Loss 2.18467, Train accuracy 0.430, Test accuracy 0.377, Throughput 2258.91 images/second,  Time 22.825 (s)\n",
      "Epoch   26: Loss 2.16747, Train accuracy 0.413, Test accuracy 0.371, Throughput 2234.86 images/second,  Time 23.097 (s)\n",
      "Epoch   27: Loss 2.15756, Train accuracy 0.421, Test accuracy 0.372, Throughput 2253.38 images/second,  Time 22.883 (s)\n",
      "Epoch   28: Loss 2.14030, Train accuracy 0.435, Test accuracy 0.379, Throughput 2245.17 images/second,  Time 22.984 (s)\n",
      "Epoch   29: Loss 2.12439, Train accuracy 0.434, Test accuracy 0.382, Throughput 2248.81 images/second,  Time 22.927 (s)\n"
     ]
    }
   ],
   "source": [
    "params = {\n",
    "    \"dataset\": dataset,           # dataset name\n",
    "    \"batchsize\": batchsize,       # batch size\n",
    "    \"seed\": seed,                 # random seed\n",
    "    \"lr\": lr,                     # learning rate\n",
    "    \"epochs\": epochs              # number of epochs\n",
    "}\n",
    "\n",
    "# Execute 'train.py' with parameters\n",
    "execute(\"train.py\", params=params)"
   ]
  },
  {
   "cell_type": "markdown",
   "metadata": {},
   "source": [
    "## Test"
   ]
  },
  {
   "cell_type": "code",
   "execution_count": 12,
   "metadata": {},
   "outputs": [
    {
     "name": "stdout",
     "output_type": "stream",
     "text": [
      "Executing script: ./mlx-cifar-10-cnn/test.py\n",
      "['python', './mlx-cifar-10-cnn/test.py', '--model', 'model_CIFAR-100_029.npz']\n",
      "Loaded model for CIFAR-10 from model_CIFAR-100_029.npz\n",
      "Starting testing ...\n",
      "....\n",
      "Test accuracy: 0.005890574771910906\n"
     ]
    }
   ],
   "source": [
    "# parameters\n",
    "params = {\n",
    "    \"dataset\": dataset,           # dataset name\n",
    "    \"model\": f\"model_{dataset}_{epochs-1:03d}.npz\" # model name    \n",
    "}\n",
    "\n",
    "# Execute 'train.py' with parameters\n",
    "execute(\"test.py\", params=params)"
   ]
  }
 ],
 "metadata": {
  "kernelspec": {
   "display_name": "mlx-m1-2023-12",
   "language": "python",
   "name": "python3"
  },
  "language_info": {
   "codemirror_mode": {
    "name": "ipython",
    "version": 3
   },
   "file_extension": ".py",
   "mimetype": "text/x-python",
   "name": "python",
   "nbconvert_exporter": "python",
   "pygments_lexer": "ipython3",
   "version": "3.11.6"
  }
 },
 "nbformat": 4,
 "nbformat_minor": 2
}
