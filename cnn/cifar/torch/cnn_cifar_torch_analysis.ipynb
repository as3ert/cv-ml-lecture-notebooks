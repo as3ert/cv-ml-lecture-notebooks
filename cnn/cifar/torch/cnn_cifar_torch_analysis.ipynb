{
 "cells": [
  {
   "cell_type": "markdown",
   "metadata": {},
   "source": [
    "# Convolutional neural networks (CNN) for CIFAR-10/100 using PyTorch\n",
    "\n",
    "Markus Enzweiler, markus.enzweiler@hs-esslingen.de\n",
    "\n",
    "This is a demo used in a Computer Vision & Machine Learning lecture. Feel free to use and contribute."
   ]
  },
  {
   "cell_type": "markdown",
   "metadata": {},
   "source": [
    "We test a pretrained CNN for CIFAR-10 / CIFAR-100 image classification, see https://www.cs.toronto.edu/~kriz/cifar.html. We use the Python code from https://github.com/menzHSE/torch-cifar-10-cnn.git."
   ]
  },
  {
   "cell_type": "markdown",
   "metadata": {},
   "source": [
    "## Setup\n",
    "\n",
    "Adapt `packagePath` to point to the directory containing this notebeook."
   ]
  },
  {
   "cell_type": "code",
   "execution_count": null,
   "metadata": {},
   "outputs": [],
   "source": [
    "# Imports\n",
    "import sys\n",
    "import os\n",
    "import subprocess"
   ]
  },
  {
   "cell_type": "code",
   "execution_count": null,
   "metadata": {},
   "outputs": [],
   "source": [
    "# Package Path\n",
    "package_path = \"./\" # local\n",
    "print(f\"Package path: {package_path}\")\n",
    "\n",
    "\n",
    "def check_for_colab():\n",
    "  try:\n",
    "      import google.colab\n",
    "      return True\n",
    "  except ImportError:\n",
    "      return False\n",
    "\n",
    "# Running on Colab?\n",
    "on_colab = check_for_colab()"
   ]
  },
  {
   "cell_type": "code",
   "execution_count": null,
   "metadata": {},
   "outputs": [],
   "source": [
    "# Clone git repository\n",
    "\n",
    "# Absolute path of the repository directory\n",
    "repo_dir = os.path.join(package_path, \"torch-cifar-10-cnn\")\n",
    "repo_url = \"https://github.com/menzHSE/torch-cifar-10-cnn.git\"\n",
    "\n",
    "# Store the original working directory\n",
    "original_cwd = os.getcwd()\n",
    "\n",
    "# Check if the directory already exists using the absolute path\n",
    "if os.path.exists(os.path.join(original_cwd, repo_dir)):\n",
    "    print(\"Repository exists. Resetting to HEAD...\")\n",
    "    # Navigate into the repository directory\n",
    "    os.chdir(repo_dir)\n",
    "    # Fetch the latest changes from the remote\n",
    "    subprocess.run([\"git\", \"fetch\", \"origin\"])\n",
    "    # Reset the local branch to the latest commit from the remote\n",
    "    subprocess.run([\"git\", \"reset\", \"--hard\", \"origin/HEAD\"])\n",
    "    # Change back to the original working directory\n",
    "    os.chdir(original_cwd)\n",
    "else:\n",
    "    print(\"Cloning repository...\")\n",
    "    # Clone the repository if it doesn't exist\n",
    "    subprocess.run([\"git\", \"clone\", repo_url, repo_dir])\n"
   ]
  },
  {
   "cell_type": "code",
   "execution_count": null,
   "metadata": {},
   "outputs": [],
   "source": [
    "# Install requirements in the current Jupyter kernel\n",
    "req_file = os.path.join(repo_dir, \"requirements.txt\")\n",
    "if os.path.exists(req_file):\n",
    "    !{sys.executable} -m pip install -r {req_file}\n",
    "else:\n",
    "    print(f\"Requirements file not found: {req_file}\")"
   ]
  },
  {
   "cell_type": "code",
   "execution_count": null,
   "metadata": {},
   "outputs": [],
   "source": [
    "# Add the directory containing models.py to the system path\n",
    "sys.path.append(os.path.join(package_path, 'torch-cifar-10-cnn'))\n",
    "\n",
    "# Now we can import torch\n",
    "import torch\n",
    "\n",
    "# Now we can import the model and dataset\n",
    "import model\n",
    "import dataset\n",
    "import device"
   ]
  },
  {
   "cell_type": "markdown",
   "metadata": {},
   "source": [
    "# Inference on CIFAR-10\n",
    "\n"
   ]
  },
  {
   "cell_type": "markdown",
   "metadata": {},
   "source": [
    "## Load the pretrained model and the CIFAR-10 test data"
   ]
  },
  {
   "cell_type": "code",
   "execution_count": null,
   "metadata": {},
   "outputs": [],
   "source": [
    "# device\n",
    "dev = device.autoselectDevice()\n",
    "print(f\"Device: {dev}\")\n",
    "\n",
    "# load the dataset\n",
    "cifar_version = \"CIFAR-10\"\n",
    "batch_size = 64\n",
    "img_size = 32 # we assume 32x32 pixel images\n",
    "_, test_loader, classes = dataset.cifar(batch_size=batch_size, custom_transforms=None, cifar_version=cifar_version)\n",
    "num_classes = len(classes)\n",
    "\n",
    "# load the model \n",
    "model_fname = os.path.join(package_path, 'torch-cifar-10-cnn', \n",
    "    'pretrained_models', 'model_CIFAR-10.pth')\n",
    "\n",
    "cnn = model.CNN(num_classes)\n",
    "cnn.load(model_fname, dev)\n",
    "\n",
    "print(f\"Loaded model for {cifar_version} from {model_fname}\")"
   ]
  },
  {
   "cell_type": "markdown",
   "metadata": {},
   "source": [
    "## Run inference on a batch of test data"
   ]
  },
  {
   "cell_type": "code",
   "execution_count": null,
   "metadata": {},
   "outputs": [],
   "source": [
    "import matplotlib.pyplot as plt\n",
    "import torch.nn.functional as F\n",
    "import torchvision\n",
    "\n",
    "# put the model in evaluation mode and on the device we are using\n",
    "cnn.eval()\n",
    "cnn.to(dev)\n",
    "\n",
    "# get a batch of testing images\n",
    "data = next(iter(test_loader))\n",
    "\n",
    "with torch.no_grad():\n",
    "    # Get the testing data and push the data to the device we are using       \n",
    "    images, labels = data[0].to(dev), data[1].to(dev)\n",
    "\n",
    "    # Get the model predictions\n",
    "    predictions = cnn(images)\n",
    "    _, predicted_labels = torch.max(predictions, 1) \n",
    "    # CNN output posterior probability estimate via softmax\n",
    "    probabilities = F.softmax(predictions, dim=1)  # softmax along the rows\n",
    "    \n",
    "    # plot the images in the batch, along with the corresponding labels and predictions\n",
    "\n",
    "    # Make a grid from the batch\n",
    "    grid = torchvision.utils.make_grid(images.cpu(), nrow=8, normalize=True, scale_each=True)    \n",
    "\n",
    "    # Convert grid to a numpy image\n",
    "    grid = grid.numpy().transpose((1, 2, 0))\n",
    "\n",
    "    plt.figure(figsize=(15, 15))\n",
    "    plt.imshow(grid)\n",
    "    plt.axis('off')\n",
    "\n",
    "    # Add labels\n",
    "    for i in range(batch_size):\n",
    "        row = i // 8\n",
    "        col = i %  8\n",
    "\n",
    "        # Ground truth and predicted class\n",
    "        gt_label          = classes[labels[i]]\n",
    "        pr_label          = classes[predicted_labels[i]]                                \n",
    "        output_prob       = probabilities[i][predicted_labels[i]]\n",
    "               \n",
    "        if gt_label == pr_label:\n",
    "            # Green label for correct predictions\n",
    "            label_color = 'lightgreen'\n",
    "        else:\n",
    "            # Red label for incorrect predictions\n",
    "            label_color = 'red'\n",
    "\n",
    "        plt.text(col*(img_size+2)+2, row*(img_size+2)+4, f'T: {gt_label}', \n",
    "            color=label_color, backgroundcolor='black')\n",
    "\n",
    "        plt.text(col*(img_size+2)+2, row*(img_size+2)+10, f'P: {pr_label} ({output_prob:.2f})', \n",
    "            color=label_color, backgroundcolor='black')\n",
    "\n",
    "    plt.title(\"True (T) and Predicted Classes (P) with confidence value for CIFAR-10\")\n",
    "    plt.show()"
   ]
  }
 ],
 "metadata": {
  "kernelspec": {
   "display_name": "pytorch-m1-2023-10",
   "language": "python",
   "name": "pytorch-m1-2023-10"
  },
  "language_info": {
   "codemirror_mode": {
    "name": "ipython",
    "version": 3
   },
   "file_extension": ".py",
   "mimetype": "text/x-python",
   "name": "python",
   "nbconvert_exporter": "python",
   "pygments_lexer": "ipython3",
   "version": "3.9.18"
  }
 },
 "nbformat": 4,
 "nbformat_minor": 2
}
