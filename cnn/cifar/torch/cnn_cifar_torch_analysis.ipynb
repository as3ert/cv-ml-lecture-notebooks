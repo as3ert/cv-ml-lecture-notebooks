{
 "cells": [
  {
   "cell_type": "markdown",
   "metadata": {},
   "source": [
    "# Convolutional neural networks (CNN) for CIFAR-10/100 using PyTorch\n",
    "\n",
    "Markus Enzweiler, markus.enzweiler@hs-esslingen.de\n",
    "\n",
    "This is a demo used in a Computer Vision & Machine Learning lecture. Feel free to use and contribute."
   ]
  },
  {
   "cell_type": "markdown",
   "metadata": {},
   "source": [
    "We test a pretrained CNN for CIFAR-10 / CIFAR-100 image classification, see https://www.cs.toronto.edu/~kriz/cifar.html. We use the Python code from https://github.com/menzHSE/torch-cifar-10-cnn.git."
   ]
  },
  {
   "cell_type": "markdown",
   "metadata": {},
   "source": [
    "## Setup\n",
    "\n",
    "Adapt `packagePath` to point to the directory containing this notebeook."
   ]
  },
  {
   "cell_type": "code",
   "execution_count": null,
   "metadata": {},
   "outputs": [],
   "source": [
    "# Notebook id\n",
    "nb_id = \"cnn/cifar/torch\"\n",
    "\n",
    "# Imports\n",
    "import sys\n",
    "import os"
   ]
  },
  {
   "cell_type": "code",
   "execution_count": null,
   "metadata": {},
   "outputs": [],
   "source": [
    "# Package Path (folder of this notebook)\n",
    "\n",
    "#####################\n",
    "# Local environment #\n",
    "#####################\n",
    "\n",
    "package_path = \"./\"\n",
    "\n",
    "\n",
    "#########\n",
    "# Colab #\n",
    "#########\n",
    "\n",
    "\n",
    "def check_for_colab():\n",
    "    try:\n",
    "        import google.colab\n",
    "\n",
    "        return True\n",
    "    except ImportError:\n",
    "        return False\n",
    "\n",
    "\n",
    "# running on Colab?\n",
    "on_colab = check_for_colab()\n",
    "\n",
    "if on_colab:\n",
    "    # assume this notebook is run from Google Drive and the whole\n",
    "    # cv-ml-lecture-notebooks repo has been setup via setupOnColab.ipynb\n",
    "\n",
    "    # Google Drive mount point\n",
    "    gdrive_mnt = \"/content/drive\"\n",
    "\n",
    "    ##########################################################################\n",
    "    # Ensure that this is the same as gdrive_repo_root in setupOnColab.ipynb #\n",
    "    ##########################################################################\n",
    "    # Path on Google Drive to the cv-ml-lecture-notebooks repo\n",
    "    gdrive_repo_root = f\"{gdrive_mnt}/MyDrive/cv-ml-lecture-notebooks\"\n",
    "\n",
    "    # mount drive\n",
    "    from google.colab import drive\n",
    "\n",
    "    drive.mount(gdrive_mnt, force_remount=True)\n",
    "\n",
    "    # set package path\n",
    "    package_path = f\"{gdrive_repo_root}/{nb_id}\"\n",
    "\n",
    "# check whether package path exists\n",
    "if not os.path.isdir(package_path):\n",
    "    raise FileNotFoundError(f\"Package path does not exist: {package_path}\")\n",
    "\n",
    "print(f\"Package path: {package_path}\")"
   ]
  },
  {
   "cell_type": "code",
   "execution_count": null,
   "metadata": {},
   "outputs": [],
   "source": [
    "# Additional imports\n",
    "\n",
    "# Repository Root\n",
    "repo_root = os.path.abspath(os.path.join(package_path, \"..\", \"..\", \"..\"))\n",
    "# Add the repository root to the system path\n",
    "if repo_root not in sys.path:\n",
    "    sys.path.append(repo_root)\n",
    "\n",
    "# Package Imports\n",
    "from nbutils import requirements as nb_reqs\n",
    "from nbutils import colab as nb_colab\n",
    "from nbutils import git as nb_git\n",
    "from nbutils import exec as nb_exec\n",
    "from nbutils import data as nb_data"
   ]
  },
  {
   "cell_type": "code",
   "execution_count": null,
   "metadata": {},
   "outputs": [],
   "source": [
    "# Clone git repository\n",
    "\n",
    "# Absolute path of the repository directory\n",
    "repo_dir = os.path.join(package_path, \"torch-cifar-10-cnn\")\n",
    "repo_url = \"https://github.com/menzHSE/torch-cifar-10-cnn.git\"\n",
    "\n",
    "nb_git.clone(repo_url, repo_dir, on_colab)"
   ]
  },
  {
   "cell_type": "code",
   "execution_count": null,
   "metadata": {},
   "outputs": [],
   "source": [
    "# Install requirements in the current Jupyter kernel\n",
    "req_file = os.path.join(repo_dir, \"requirements.txt\")\n",
    "nb_reqs.pip_install_reqs(req_file, on_colab)"
   ]
  },
  {
   "cell_type": "code",
   "execution_count": null,
   "metadata": {},
   "outputs": [],
   "source": [
    "# Add the directory containing models.py to the system path\n",
    "sys.path.append(os.path.join(package_path, \"torch-cifar-10-cnn\"))\n",
    "\n",
    "# Now we can import torch\n",
    "import torch\n",
    "\n",
    "# Now we can import the model and dataset\n",
    "import model\n",
    "import dataset\n",
    "import device"
   ]
  },
  {
   "cell_type": "markdown",
   "metadata": {},
   "source": [
    "# Inference on CIFAR-10\n",
    "\n"
   ]
  },
  {
   "cell_type": "markdown",
   "metadata": {},
   "source": [
    "## Load the pretrained model and the CIFAR-10 test data"
   ]
  },
  {
   "cell_type": "code",
   "execution_count": null,
   "metadata": {},
   "outputs": [],
   "source": [
    "# device\n",
    "dev = device.autoselectDevice()\n",
    "print(f\"Device: {dev}\")\n",
    "\n",
    "# load the dataset\n",
    "cifar_version = \"CIFAR-10\"\n",
    "batch_size = 64\n",
    "img_size = 32  # we assume 32x32 pixel images\n",
    "_, test_loader, classes = dataset.cifar(\n",
    "    batch_size=batch_size, custom_transforms=None, cifar_version=cifar_version\n",
    ")\n",
    "num_classes = len(classes)\n",
    "\n",
    "# load the model\n",
    "model_fname = os.path.join(\n",
    "    package_path, \"torch-cifar-10-cnn\", \"pretrained_models\", \"model_CIFAR-10.pth\"\n",
    ")\n",
    "\n",
    "cnn = model.CNN(num_classes)\n",
    "cnn.load(model_fname, dev)\n",
    "\n",
    "print(f\"Loaded model for {cifar_version} from {model_fname}\")"
   ]
  },
  {
   "cell_type": "markdown",
   "metadata": {},
   "source": [
    "## Run inference on a batch of test data"
   ]
  },
  {
   "cell_type": "code",
   "execution_count": null,
   "metadata": {},
   "outputs": [],
   "source": [
    "import matplotlib.pyplot as plt\n",
    "import torch.nn.functional as F\n",
    "import torchvision\n",
    "\n",
    "# put the model in evaluation mode and on the device we are using\n",
    "cnn.eval()\n",
    "cnn.to(dev)\n",
    "\n",
    "# get a batch of testing images\n",
    "data = next(iter(test_loader))\n",
    "\n",
    "with torch.no_grad():\n",
    "    # Get the testing data and push the data to the device we are using\n",
    "    images, labels = data[0].to(dev), data[1].to(dev)\n",
    "\n",
    "    # Get the model predictions\n",
    "    predictions = cnn(images)\n",
    "    _, predicted_labels = torch.max(predictions, 1)\n",
    "    # CNN output posterior probability estimate via softmax\n",
    "    probabilities = F.softmax(predictions, dim=1)  # softmax along the rows\n",
    "\n",
    "    # plot the images in the batch, along with the corresponding labels and predictions\n",
    "\n",
    "    # Make a grid from the batch\n",
    "    grid = torchvision.utils.make_grid(\n",
    "        images.cpu(), nrow=8, normalize=True, scale_each=True\n",
    "    )\n",
    "\n",
    "    # Convert grid to a numpy image\n",
    "    grid = grid.numpy().transpose((1, 2, 0))\n",
    "\n",
    "    plt.figure(figsize=(15, 15))\n",
    "    plt.imshow(grid)\n",
    "    plt.axis(\"off\")\n",
    "\n",
    "    # Add labels\n",
    "    for i in range(batch_size):\n",
    "        row = i // 8\n",
    "        col = i % 8\n",
    "\n",
    "        # Ground truth and predicted class\n",
    "        gt_label = classes[labels[i]]\n",
    "        pr_label = classes[predicted_labels[i]]\n",
    "        output_prob = probabilities[i][predicted_labels[i]]\n",
    "\n",
    "        if gt_label == pr_label:\n",
    "            # Green label for correct predictions\n",
    "            label_color = \"lightgreen\"\n",
    "        else:\n",
    "            # Red label for incorrect predictions\n",
    "            label_color = \"red\"\n",
    "\n",
    "        plt.text(\n",
    "            col * (img_size + 2) + 2,\n",
    "            row * (img_size + 2) + 4,\n",
    "            f\"T: {gt_label}\",\n",
    "            color=label_color,\n",
    "            backgroundcolor=\"black\",\n",
    "        )\n",
    "\n",
    "        plt.text(\n",
    "            col * (img_size + 2) + 2,\n",
    "            row * (img_size + 2) + 10,\n",
    "            f\"P: {pr_label} ({output_prob:.2f})\",\n",
    "            color=label_color,\n",
    "            backgroundcolor=\"black\",\n",
    "        )\n",
    "\n",
    "    plt.title(\"True (T) and Predicted Classes (P) with Confidence Value for CIFAR-10\")\n",
    "    plt.show()"
   ]
  }
 ],
 "metadata": {
  "kernelspec": {
   "display_name": "pytorch-m1-2023-10",
   "language": "python",
   "name": "pytorch-m1-2023-10"
  },
  "language_info": {
   "codemirror_mode": {
    "name": "ipython",
    "version": 3
   },
   "file_extension": ".py",
   "mimetype": "text/x-python",
   "name": "python",
   "nbconvert_exporter": "python",
   "pygments_lexer": "ipython3",
   "version": "3.9.18"
  }
 },
 "nbformat": 4,
 "nbformat_minor": 2
}
